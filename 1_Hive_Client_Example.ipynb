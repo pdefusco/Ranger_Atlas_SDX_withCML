{
 "cells": [
  {
   "cell_type": "markdown",
   "metadata": {},
   "source": [
    "# Hive Integration "
   ]
  },
  {
   "cell_type": "markdown",
   "metadata": {},
   "source": [
    "![title](images/hive_metastore.png)"
   ]
  },
  {
   "cell_type": "markdown",
   "metadata": {},
   "source": [
    "### Create a Hive Connection and query the data"
   ]
  },
  {
   "cell_type": "markdown",
   "metadata": {},
   "source": [
    "##### Before you can proceed, you need to add an environment variable to the project for called \"WORKLOAD_PASSWORD\" and enter your password. "
   ]
  },
  {
   "cell_type": "markdown",
   "metadata": {},
   "source": [
    "##### You can copy the following contents from the \"Data\" tab on the top right "
   ]
  },
  {
   "cell_type": "code",
   "execution_count": 2,
   "metadata": {},
   "outputs": [],
   "source": [
    "import os\n",
    "try:\n",
    "    import cmldata\n",
    "except ImportError as error:\n",
    "    raise ImportError(\"Could not import cmldata, please fork project or create a new one to use the library functionality \" + str(error))\n",
    "\n",
    "CONNECTION_NAME = \"default-hive\"\n",
    "\n",
    "# You can change the following lines to update your credentials\n",
    "USERNAME = os.getenv('HADOOP_USER_NAME')\n",
    "PASSWORD = os.getenv('WORKLOAD_PASSWORD')\n",
    "\n",
    "conn = cmldata.getConnection({\n",
    "         'CONNECTION_NAME': CONNECTION_NAME,\n",
    "         'USERNAME': USERNAME,\n",
    "         'PASSWORD': PASSWORD\n",
    "       })\n",
    "\n",
    "dbCursor = conn.getCursor()"
   ]
  },
  {
   "cell_type": "code",
   "execution_count": 4,
   "metadata": {},
   "outputs": [
    {
     "name": "stdout",
     "output_type": "stream",
     "text": [
      "('default',)\n",
      "('information_schema',)\n",
      "('prescribing_p',)\n",
      "('prescribing_p_e',)\n",
      "('rfro_emp_gov_db',)\n",
      "('sys',)\n"
     ]
    }
   ],
   "source": [
    "# Uncomment following lines to run an example query\n",
    "EXAMPLE_SQL_QUERY = \"show databases\"\n",
    "dbCursor.execute(EXAMPLE_SQL_QUERY)\n",
    "for row in dbCursor:\n",
    "    print(row)"
   ]
  },
  {
   "cell_type": "code",
   "execution_count": null,
   "metadata": {},
   "outputs": [],
   "source": []
  },
  {
   "cell_type": "code",
   "execution_count": null,
   "metadata": {},
   "outputs": [],
   "source": []
  },
  {
   "cell_type": "code",
   "execution_count": null,
   "metadata": {},
   "outputs": [],
   "source": []
  }
 ],
 "metadata": {
  "kernelspec": {
   "display_name": "Python 3",
   "language": "python",
   "name": "python3"
  },
  "language_info": {
   "codemirror_mode": {
    "name": "ipython",
    "version": 3
   },
   "file_extension": ".py",
   "mimetype": "text/x-python",
   "name": "python",
   "nbconvert_exporter": "python",
   "pygments_lexer": "ipython3",
   "version": "3.6.14"
  }
 },
 "nbformat": 4,
 "nbformat_minor": 4
}
