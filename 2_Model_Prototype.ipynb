{
 "cells": [
  {
   "cell_type": "markdown",
   "id": "ecf7a96b-31d0-4100-981b-50686cde58ea",
   "metadata": {},
   "source": [
    "# Sample Model Evaluation Pipeline"
   ]
  },
  {
   "cell_type": "code",
   "execution_count": 1,
   "id": "f075506f-443b-47dc-a284-f1b4938fea1d",
   "metadata": {},
   "outputs": [],
   "source": [
    "import pandas as pd\n",
    "import numpy as np\n",
    "import seaborn as sns\n",
    "import matplotlib.pyplot as plt\n",
    "from sklearn.model_selection import GridSearchCV, train_test_split, cross_val_score, StratifiedKFold\n",
    "from sklearn.ensemble import AdaBoostClassifier, RandomForestClassifier\n",
    "from sklearn.tree import DecisionTreeClassifier\n",
    "from sklearn.impute import SimpleImputer\n",
    "from sklearn.compose import ColumnTransformer\n",
    "from sklearn.pipeline import Pipeline\n",
    "from sklearn.preprocessing import RobustScaler, OneHotEncoder"
   ]
  },
  {
   "cell_type": "code",
   "execution_count": 2,
   "id": "2052859f-6aef-4cb5-8773-b9f4ae6c53a3",
   "metadata": {},
   "outputs": [
    {
     "name": "stdout",
     "output_type": "stream",
     "text": [
      "         database_name\n",
      "0          01_car_data\n",
      "1            01_car_dw\n",
      "2           airline_dw\n",
      "3             airlines\n",
      "4         airlines_csv\n",
      "5     airlines_iceberg\n",
      "6             bankdemo\n",
      "7               bhagan\n",
      "8              cdedemo\n",
      "9         cdp_overview\n",
      "10          creditrisk\n",
      "11                dbgr\n",
      "12             default\n",
      "13              glivni\n",
      "14  information_schema\n",
      "15        pdf_car_data\n",
      "16       prescribing_p\n",
      "17     prescribing_p_e\n",
      "18          retaildemo\n",
      "19                 sys\n",
      "20         ukcrime_dev\n",
      "21           ukweather\n"
     ]
    }
   ],
   "source": [
    "import cml.data_v1 as cmldata\n",
    "\n",
    "CONNECTION_NAME = \"default-hive\"\n",
    "conn = cmldata.get_connection(CONNECTION_NAME)\n",
    "\n",
    "## Sample Usage to get pandas data frame\n",
    "EXAMPLE_SQL_QUERY = \"show databases\"\n",
    "dataframe = conn.get_pandas_dataframe(EXAMPLE_SQL_QUERY)\n",
    "print(dataframe)\n",
    "\n",
    "## Other Usage Notes:\n",
    "\n",
    "## Alternate Sample Usage to provide different credentials as optional parameters\n",
    "#conn = cmldata.get_connection(\n",
    "#    CONNECTION_NAME, {\"USERNAME\": \"someuser\", \"PASSWORD\": \"somepassword\"}\n",
    "#)\n",
    "\n",
    "## Alternate Sample Usage to get DB API Connection interface\n",
    "#db_conn = conn.get_base_connection()\n",
    "\n",
    "## Alternate Sample Usage to get DB API Cursor interface\n",
    "#db_cursor = conn.get_cursor()\n",
    "#db_cursor.execute(EXAMPLE_SQL_QUERY)\n",
    "#for row in db_cursor:\n",
    "#  print(row)"
   ]
  },
  {
   "cell_type": "code",
   "execution_count": 3,
   "id": "50b7bc74-d6fa-4761-a444-73b4cb5abe09",
   "metadata": {},
   "outputs": [],
   "source": [
    "EXAMPLE_SQL_QUERY = \"select *\\\n",
    "                    from default.marketing_campaign_table as m\\\n",
    "                    inner join default.bank_info_table as b\\\n",
    "                    on m.name = b.name\"\n",
    "\n",
    "df = conn.get_pandas_dataframe(EXAMPLE_SQL_QUERY)"
   ]
  },
  {
   "cell_type": "markdown",
   "id": "56050f2f-b77a-4d7a-b536-f0a3753006bd",
   "metadata": {},
   "source": [
    "#### Why not load the dataframes into Pandas and join via Pandas SQL? The query is running in Hive, achieving dramatically higher scalability"
   ]
  },
  {
   "cell_type": "code",
   "execution_count": 4,
   "id": "83c4d187-3980-403e-951a-6d75f280319b",
   "metadata": {},
   "outputs": [
    {
     "data": {
      "text/html": [
       "<div>\n",
       "<style scoped>\n",
       "    .dataframe tbody tr th:only-of-type {\n",
       "        vertical-align: middle;\n",
       "    }\n",
       "\n",
       "    .dataframe tbody tr th {\n",
       "        vertical-align: top;\n",
       "    }\n",
       "\n",
       "    .dataframe thead th {\n",
       "        text-align: right;\n",
       "    }\n",
       "</style>\n",
       "<table border=\"1\" class=\"dataframe\">\n",
       "  <thead>\n",
       "    <tr style=\"text-align: right;\">\n",
       "      <th></th>\n",
       "      <th>m.name</th>\n",
       "      <th>m.street_address</th>\n",
       "      <th>m.city</th>\n",
       "      <th>m.postcode</th>\n",
       "      <th>m.phone_number</th>\n",
       "      <th>m.job</th>\n",
       "      <th>b.name</th>\n",
       "      <th>b.aba_routing</th>\n",
       "      <th>b.bank_country</th>\n",
       "      <th>b.account_number</th>\n",
       "      <th>...</th>\n",
       "      <th>b.recency</th>\n",
       "      <th>b.history</th>\n",
       "      <th>b.used_discount</th>\n",
       "      <th>b.used_bogo</th>\n",
       "      <th>b.zip_code</th>\n",
       "      <th>b.is_referral</th>\n",
       "      <th>b.channel</th>\n",
       "      <th>b.offer</th>\n",
       "      <th>b.conversion</th>\n",
       "      <th>b.score</th>\n",
       "    </tr>\n",
       "  </thead>\n",
       "  <tbody>\n",
       "    <tr>\n",
       "      <th>0</th>\n",
       "      <td>Ryan Perez</td>\n",
       "      <td>f5f204d8428d91eed873d5ea6dfb43fc3cc259948b43c0...</td>\n",
       "      <td>Johnsonland</td>\n",
       "      <td>91012</td>\n",
       "      <td>(317)017-1943</td>\n",
       "      <td>Dentist</td>\n",
       "      <td>Ryan Perez</td>\n",
       "      <td>010256103</td>\n",
       "      <td>GB</td>\n",
       "      <td>TWYL69320475066538</td>\n",
       "      <td>...</td>\n",
       "      <td>2</td>\n",
       "      <td>45.34</td>\n",
       "      <td>1</td>\n",
       "      <td>0</td>\n",
       "      <td>Urban</td>\n",
       "      <td>0</td>\n",
       "      <td>Web</td>\n",
       "      <td>Buy One Get One</td>\n",
       "      <td>0</td>\n",
       "      <td>0.5250908284092843</td>\n",
       "    </tr>\n",
       "    <tr>\n",
       "      <th>1</th>\n",
       "      <td>Jason Rodriguez</td>\n",
       "      <td>028bb2957884eb13b82ced5c694601849d3af842107b56...</td>\n",
       "      <td>South Craighaven</td>\n",
       "      <td>48410</td>\n",
       "      <td>282.765.5153x11565</td>\n",
       "      <td>Senior tax professional/tax inspector</td>\n",
       "      <td>Jason Rodriguez</td>\n",
       "      <td>106412929</td>\n",
       "      <td>GB</td>\n",
       "      <td>FZTV56775417147533</td>\n",
       "      <td>...</td>\n",
       "      <td>9</td>\n",
       "      <td>280.2</td>\n",
       "      <td>1</td>\n",
       "      <td>0</td>\n",
       "      <td>Surburban</td>\n",
       "      <td>1</td>\n",
       "      <td>Phone</td>\n",
       "      <td>Buy One Get One</td>\n",
       "      <td>0</td>\n",
       "      <td>0.919413935288077</td>\n",
       "    </tr>\n",
       "    <tr>\n",
       "      <th>2</th>\n",
       "      <td>Leah Miller</td>\n",
       "      <td>4208ed7d3b6499f8016061e4917064a2167f6bdbb26aa8...</td>\n",
       "      <td>Alicefurt</td>\n",
       "      <td>80189</td>\n",
       "      <td>555-555-6116x076</td>\n",
       "      <td>\"Programmer</td>\n",
       "      <td>Leah Miller</td>\n",
       "      <td>010489378</td>\n",
       "      <td>GB</td>\n",
       "      <td>JNDG16711629611689</td>\n",
       "      <td>...</td>\n",
       "      <td>9</td>\n",
       "      <td>46.42</td>\n",
       "      <td>0</td>\n",
       "      <td>1</td>\n",
       "      <td>Urban</td>\n",
       "      <td>0</td>\n",
       "      <td>Phone</td>\n",
       "      <td>Buy One Get One</td>\n",
       "      <td>0</td>\n",
       "      <td>1.4776779062404213</td>\n",
       "    </tr>\n",
       "    <tr>\n",
       "      <th>3</th>\n",
       "      <td>Kelly Grimes</td>\n",
       "      <td>d72f1599d46ab4f2dcb09219561e6ce1c65e40ea49792b...</td>\n",
       "      <td>New Willieside</td>\n",
       "      <td>05486</td>\n",
       "      <td>514-001-2127x18401</td>\n",
       "      <td>Contracting civil engineer</td>\n",
       "      <td>Kelly Grimes</td>\n",
       "      <td>054032464</td>\n",
       "      <td>GB</td>\n",
       "      <td>UQPK98310055923994</td>\n",
       "      <td>...</td>\n",
       "      <td>2</td>\n",
       "      <td>101.64</td>\n",
       "      <td>0</td>\n",
       "      <td>1</td>\n",
       "      <td>Urban</td>\n",
       "      <td>0</td>\n",
       "      <td>Web</td>\n",
       "      <td>Discount</td>\n",
       "      <td>1</td>\n",
       "      <td>1.2284264634346713</td>\n",
       "    </tr>\n",
       "    <tr>\n",
       "      <th>4</th>\n",
       "      <td>Tiffany Walker</td>\n",
       "      <td>0981d45305ad008ef413ebfec37ce01cfa247cc68a5ea0...</td>\n",
       "      <td>Tabithahaven</td>\n",
       "      <td>86090</td>\n",
       "      <td>136.311.5880</td>\n",
       "      <td>Hotel manager</td>\n",
       "      <td>Tiffany Walker</td>\n",
       "      <td>041013959</td>\n",
       "      <td>GB</td>\n",
       "      <td>EIRT74629944855089</td>\n",
       "      <td>...</td>\n",
       "      <td>4</td>\n",
       "      <td>241.42</td>\n",
       "      <td>0</td>\n",
       "      <td>1</td>\n",
       "      <td>Rural</td>\n",
       "      <td>1</td>\n",
       "      <td>Multichannel</td>\n",
       "      <td>No Offer</td>\n",
       "      <td>0</td>\n",
       "      <td>1.1863879409505733</td>\n",
       "    </tr>\n",
       "  </tbody>\n",
       "</table>\n",
       "<p>5 rows × 22 columns</p>\n",
       "</div>"
      ],
      "text/plain": [
       "            m.name                                   m.street_address  \\\n",
       "0       Ryan Perez  f5f204d8428d91eed873d5ea6dfb43fc3cc259948b43c0...   \n",
       "1  Jason Rodriguez  028bb2957884eb13b82ced5c694601849d3af842107b56...   \n",
       "2      Leah Miller  4208ed7d3b6499f8016061e4917064a2167f6bdbb26aa8...   \n",
       "3     Kelly Grimes  d72f1599d46ab4f2dcb09219561e6ce1c65e40ea49792b...   \n",
       "4   Tiffany Walker  0981d45305ad008ef413ebfec37ce01cfa247cc68a5ea0...   \n",
       "\n",
       "             m.city m.postcode      m.phone_number  \\\n",
       "0       Johnsonland      91012       (317)017-1943   \n",
       "1  South Craighaven      48410  282.765.5153x11565   \n",
       "2         Alicefurt      80189    555-555-6116x076   \n",
       "3    New Willieside      05486  514-001-2127x18401   \n",
       "4      Tabithahaven      86090        136.311.5880   \n",
       "\n",
       "                                   m.job           b.name b.aba_routing  \\\n",
       "0                                Dentist       Ryan Perez     010256103   \n",
       "1  Senior tax professional/tax inspector  Jason Rodriguez     106412929   \n",
       "2                            \"Programmer      Leah Miller     010489378   \n",
       "3             Contracting civil engineer     Kelly Grimes     054032464   \n",
       "4                          Hotel manager   Tiffany Walker     041013959   \n",
       "\n",
       "  b.bank_country    b.account_number  ... b.recency b.history b.used_discount  \\\n",
       "0             GB  TWYL69320475066538  ...         2     45.34               1   \n",
       "1             GB  FZTV56775417147533  ...         9     280.2               1   \n",
       "2             GB  JNDG16711629611689  ...         9     46.42               0   \n",
       "3             GB  UQPK98310055923994  ...         2    101.64               0   \n",
       "4             GB  EIRT74629944855089  ...         4    241.42               0   \n",
       "\n",
       "  b.used_bogo b.zip_code b.is_referral     b.channel          b.offer  \\\n",
       "0           0      Urban             0           Web  Buy One Get One   \n",
       "1           0  Surburban             1         Phone  Buy One Get One   \n",
       "2           1      Urban             0         Phone  Buy One Get One   \n",
       "3           1      Urban             0           Web         Discount   \n",
       "4           1      Rural             1  Multichannel         No Offer   \n",
       "\n",
       "  b.conversion             b.score  \n",
       "0            0  0.5250908284092843  \n",
       "1            0   0.919413935288077  \n",
       "2            0  1.4776779062404213  \n",
       "3            1  1.2284264634346713  \n",
       "4            0  1.1863879409505733  \n",
       "\n",
       "[5 rows x 22 columns]"
      ]
     },
     "execution_count": 4,
     "metadata": {},
     "output_type": "execute_result"
    }
   ],
   "source": [
    "df.head()"
   ]
  },
  {
   "cell_type": "code",
   "execution_count": 5,
   "id": "57503409-b27e-42d6-8c48-ace5b128e36d",
   "metadata": {},
   "outputs": [
    {
     "data": {
      "text/plain": [
       "m.name              object\n",
       "m.street_address    object\n",
       "m.city              object\n",
       "m.postcode          object\n",
       "m.phone_number      object\n",
       "m.job               object\n",
       "b.name              object\n",
       "b.aba_routing       object\n",
       "b.bank_country      object\n",
       "b.account_number    object\n",
       "b.iban              object\n",
       "b.swift11           object\n",
       "b.recency           object\n",
       "b.history           object\n",
       "b.used_discount     object\n",
       "b.used_bogo         object\n",
       "b.zip_code          object\n",
       "b.is_referral       object\n",
       "b.channel           object\n",
       "b.offer             object\n",
       "b.conversion        object\n",
       "b.score             object\n",
       "dtype: object"
      ]
     },
     "execution_count": 5,
     "metadata": {},
     "output_type": "execute_result"
    }
   ],
   "source": [
    "df.dtypes"
   ]
  },
  {
   "cell_type": "code",
   "execution_count": 6,
   "id": "35ffe94e-3729-4ca1-9908-520422a424e5",
   "metadata": {},
   "outputs": [],
   "source": [
    "df = df.iloc[1:]"
   ]
  },
  {
   "cell_type": "code",
   "execution_count": 7,
   "id": "985e5e71-0c6f-4ee2-a5d9-9f039e754781",
   "metadata": {},
   "outputs": [
    {
     "data": {
      "text/html": [
       "<div>\n",
       "<style scoped>\n",
       "    .dataframe tbody tr th:only-of-type {\n",
       "        vertical-align: middle;\n",
       "    }\n",
       "\n",
       "    .dataframe tbody tr th {\n",
       "        vertical-align: top;\n",
       "    }\n",
       "\n",
       "    .dataframe thead th {\n",
       "        text-align: right;\n",
       "    }\n",
       "</style>\n",
       "<table border=\"1\" class=\"dataframe\">\n",
       "  <thead>\n",
       "    <tr style=\"text-align: right;\">\n",
       "      <th></th>\n",
       "      <th>m.name</th>\n",
       "      <th>m.street_address</th>\n",
       "      <th>m.city</th>\n",
       "      <th>m.postcode</th>\n",
       "      <th>m.phone_number</th>\n",
       "      <th>m.job</th>\n",
       "      <th>b.name</th>\n",
       "      <th>b.aba_routing</th>\n",
       "      <th>b.bank_country</th>\n",
       "      <th>b.account_number</th>\n",
       "      <th>...</th>\n",
       "      <th>b.recency</th>\n",
       "      <th>b.history</th>\n",
       "      <th>b.used_discount</th>\n",
       "      <th>b.used_bogo</th>\n",
       "      <th>b.zip_code</th>\n",
       "      <th>b.is_referral</th>\n",
       "      <th>b.channel</th>\n",
       "      <th>b.offer</th>\n",
       "      <th>b.conversion</th>\n",
       "      <th>b.score</th>\n",
       "    </tr>\n",
       "  </thead>\n",
       "  <tbody>\n",
       "    <tr>\n",
       "      <th>count</th>\n",
       "      <td>254</td>\n",
       "      <td>254</td>\n",
       "      <td>254</td>\n",
       "      <td>254</td>\n",
       "      <td>254</td>\n",
       "      <td>254</td>\n",
       "      <td>254</td>\n",
       "      <td>254</td>\n",
       "      <td>254</td>\n",
       "      <td>254</td>\n",
       "      <td>...</td>\n",
       "      <td>254</td>\n",
       "      <td>254</td>\n",
       "      <td>254</td>\n",
       "      <td>254</td>\n",
       "      <td>254</td>\n",
       "      <td>254</td>\n",
       "      <td>254</td>\n",
       "      <td>254</td>\n",
       "      <td>254</td>\n",
       "      <td>254</td>\n",
       "    </tr>\n",
       "    <tr>\n",
       "      <th>unique</th>\n",
       "      <td>245</td>\n",
       "      <td>248</td>\n",
       "      <td>248</td>\n",
       "      <td>248</td>\n",
       "      <td>248</td>\n",
       "      <td>176</td>\n",
       "      <td>245</td>\n",
       "      <td>245</td>\n",
       "      <td>1</td>\n",
       "      <td>245</td>\n",
       "      <td>...</td>\n",
       "      <td>12</td>\n",
       "      <td>221</td>\n",
       "      <td>2</td>\n",
       "      <td>2</td>\n",
       "      <td>3</td>\n",
       "      <td>2</td>\n",
       "      <td>3</td>\n",
       "      <td>3</td>\n",
       "      <td>2</td>\n",
       "      <td>248</td>\n",
       "    </tr>\n",
       "    <tr>\n",
       "      <th>top</th>\n",
       "      <td>Kimberly Johnson</td>\n",
       "      <td>bffb3bc580d4e9a3c7e63a61e9a971a8cef0f81e57c0e0...</td>\n",
       "      <td>South Davidhaven</td>\n",
       "      <td>21018</td>\n",
       "      <td>(078)835-0206x721</td>\n",
       "      <td>\"Psychologist</td>\n",
       "      <td>Kimberly Johnson</td>\n",
       "      <td>072334487</td>\n",
       "      <td>GB</td>\n",
       "      <td>HYQZ35368615661276</td>\n",
       "      <td>...</td>\n",
       "      <td>3</td>\n",
       "      <td>29.99</td>\n",
       "      <td>1</td>\n",
       "      <td>1</td>\n",
       "      <td>Surburban</td>\n",
       "      <td>1</td>\n",
       "      <td>Web</td>\n",
       "      <td>Buy One Get One</td>\n",
       "      <td>0</td>\n",
       "      <td>1.135306175661745</td>\n",
       "    </tr>\n",
       "    <tr>\n",
       "      <th>freq</th>\n",
       "      <td>4</td>\n",
       "      <td>2</td>\n",
       "      <td>2</td>\n",
       "      <td>2</td>\n",
       "      <td>2</td>\n",
       "      <td>9</td>\n",
       "      <td>4</td>\n",
       "      <td>4</td>\n",
       "      <td>254</td>\n",
       "      <td>4</td>\n",
       "      <td>...</td>\n",
       "      <td>30</td>\n",
       "      <td>29</td>\n",
       "      <td>148</td>\n",
       "      <td>129</td>\n",
       "      <td>102</td>\n",
       "      <td>132</td>\n",
       "      <td>119</td>\n",
       "      <td>102</td>\n",
       "      <td>220</td>\n",
       "      <td>2</td>\n",
       "    </tr>\n",
       "  </tbody>\n",
       "</table>\n",
       "<p>4 rows × 22 columns</p>\n",
       "</div>"
      ],
      "text/plain": [
       "                  m.name                                   m.street_address  \\\n",
       "count                254                                                254   \n",
       "unique               245                                                248   \n",
       "top     Kimberly Johnson  bffb3bc580d4e9a3c7e63a61e9a971a8cef0f81e57c0e0...   \n",
       "freq                   4                                                  2   \n",
       "\n",
       "                  m.city m.postcode     m.phone_number          m.job  \\\n",
       "count                254        254                254            254   \n",
       "unique               248        248                248            176   \n",
       "top     South Davidhaven      21018  (078)835-0206x721  \"Psychologist   \n",
       "freq                   2          2                  2              9   \n",
       "\n",
       "                  b.name b.aba_routing b.bank_country    b.account_number  \\\n",
       "count                254           254            254                 254   \n",
       "unique               245           245              1                 245   \n",
       "top     Kimberly Johnson     072334487             GB  HYQZ35368615661276   \n",
       "freq                   4             4            254                   4   \n",
       "\n",
       "        ... b.recency b.history b.used_discount b.used_bogo b.zip_code  \\\n",
       "count   ...       254       254             254         254        254   \n",
       "unique  ...        12       221               2           2          3   \n",
       "top     ...         3     29.99               1           1  Surburban   \n",
       "freq    ...        30        29             148         129        102   \n",
       "\n",
       "       b.is_referral b.channel          b.offer b.conversion  \\\n",
       "count            254       254              254          254   \n",
       "unique             2         3                3            2   \n",
       "top                1       Web  Buy One Get One            0   \n",
       "freq             132       119              102          220   \n",
       "\n",
       "                  b.score  \n",
       "count                 254  \n",
       "unique                248  \n",
       "top     1.135306175661745  \n",
       "freq                    2  \n",
       "\n",
       "[4 rows x 22 columns]"
      ]
     },
     "execution_count": 7,
     "metadata": {},
     "output_type": "execute_result"
    }
   ],
   "source": [
    "df.describe()"
   ]
  },
  {
   "cell_type": "code",
   "execution_count": 8,
   "id": "5aed1311-0b6a-4a39-8b51-577f201f1e23",
   "metadata": {},
   "outputs": [],
   "source": [
    "baseline_df = df[[\"m.job\",\"b.recency\", \"b.used_discount\", \"b.used_bogo\", \"b.zip_code\", \"b.is_referral\", \"b.channel\", \"b.offer\", \"b.score\", \"b.conversion\"]] "
   ]
  },
  {
   "cell_type": "code",
   "execution_count": 9,
   "id": "53edc25b-7cae-4912-9cac-4c71e8723781",
   "metadata": {},
   "outputs": [],
   "source": [
    "baseline_df = baseline_df.astype({\"m.job\":\"string\", \n",
    "                                  \"b.recency\":\"int64\", \n",
    "                                  \"b.used_discount\":\"int64\", \n",
    "                                  \"b.used_bogo\":\"int64\",\n",
    "                                  \"b.zip_code\":\"string\", \n",
    "                                  \"b.is_referral\":\"int64\", \n",
    "                                  \"b.channel\":\"string\", \n",
    "                                  \"b.offer\":\"string\", \n",
    "                                  \"b.score\":\"float64\",\n",
    "                                  \"b.conversion\":\"int64\"})"
   ]
  },
  {
   "cell_type": "code",
   "execution_count": 10,
   "id": "11e3539c-aa20-479d-89ff-483846ee0d34",
   "metadata": {},
   "outputs": [
    {
     "data": {
      "text/html": [
       "<div>\n",
       "<style scoped>\n",
       "    .dataframe tbody tr th:only-of-type {\n",
       "        vertical-align: middle;\n",
       "    }\n",
       "\n",
       "    .dataframe tbody tr th {\n",
       "        vertical-align: top;\n",
       "    }\n",
       "\n",
       "    .dataframe thead th {\n",
       "        text-align: right;\n",
       "    }\n",
       "</style>\n",
       "<table border=\"1\" class=\"dataframe\">\n",
       "  <thead>\n",
       "    <tr style=\"text-align: right;\">\n",
       "      <th></th>\n",
       "      <th>m.job</th>\n",
       "      <th>b.recency</th>\n",
       "      <th>b.used_discount</th>\n",
       "      <th>b.used_bogo</th>\n",
       "      <th>b.zip_code</th>\n",
       "      <th>b.is_referral</th>\n",
       "      <th>b.channel</th>\n",
       "      <th>b.offer</th>\n",
       "      <th>b.score</th>\n",
       "      <th>b.conversion</th>\n",
       "    </tr>\n",
       "  </thead>\n",
       "  <tbody>\n",
       "    <tr>\n",
       "      <th>1</th>\n",
       "      <td>Senior tax professional/tax inspector</td>\n",
       "      <td>9</td>\n",
       "      <td>1</td>\n",
       "      <td>0</td>\n",
       "      <td>Surburban</td>\n",
       "      <td>1</td>\n",
       "      <td>Phone</td>\n",
       "      <td>Buy One Get One</td>\n",
       "      <td>0.919414</td>\n",
       "      <td>0</td>\n",
       "    </tr>\n",
       "    <tr>\n",
       "      <th>2</th>\n",
       "      <td>\"Programmer</td>\n",
       "      <td>9</td>\n",
       "      <td>0</td>\n",
       "      <td>1</td>\n",
       "      <td>Urban</td>\n",
       "      <td>0</td>\n",
       "      <td>Phone</td>\n",
       "      <td>Buy One Get One</td>\n",
       "      <td>1.477678</td>\n",
       "      <td>0</td>\n",
       "    </tr>\n",
       "    <tr>\n",
       "      <th>3</th>\n",
       "      <td>Contracting civil engineer</td>\n",
       "      <td>2</td>\n",
       "      <td>0</td>\n",
       "      <td>1</td>\n",
       "      <td>Urban</td>\n",
       "      <td>0</td>\n",
       "      <td>Web</td>\n",
       "      <td>Discount</td>\n",
       "      <td>1.228426</td>\n",
       "      <td>1</td>\n",
       "    </tr>\n",
       "    <tr>\n",
       "      <th>4</th>\n",
       "      <td>Hotel manager</td>\n",
       "      <td>4</td>\n",
       "      <td>0</td>\n",
       "      <td>1</td>\n",
       "      <td>Rural</td>\n",
       "      <td>1</td>\n",
       "      <td>Multichannel</td>\n",
       "      <td>No Offer</td>\n",
       "      <td>1.186388</td>\n",
       "      <td>0</td>\n",
       "    </tr>\n",
       "    <tr>\n",
       "      <th>5</th>\n",
       "      <td>\"Investment banker</td>\n",
       "      <td>3</td>\n",
       "      <td>1</td>\n",
       "      <td>0</td>\n",
       "      <td>Urban</td>\n",
       "      <td>1</td>\n",
       "      <td>Web</td>\n",
       "      <td>No Offer</td>\n",
       "      <td>2.243689</td>\n",
       "      <td>1</td>\n",
       "    </tr>\n",
       "  </tbody>\n",
       "</table>\n",
       "</div>"
      ],
      "text/plain": [
       "                                   m.job  b.recency  b.used_discount  \\\n",
       "1  Senior tax professional/tax inspector          9                1   \n",
       "2                            \"Programmer          9                0   \n",
       "3             Contracting civil engineer          2                0   \n",
       "4                          Hotel manager          4                0   \n",
       "5                     \"Investment banker          3                1   \n",
       "\n",
       "   b.used_bogo b.zip_code  b.is_referral     b.channel          b.offer  \\\n",
       "1            0  Surburban              1         Phone  Buy One Get One   \n",
       "2            1      Urban              0         Phone  Buy One Get One   \n",
       "3            1      Urban              0           Web         Discount   \n",
       "4            1      Rural              1  Multichannel         No Offer   \n",
       "5            0      Urban              1           Web         No Offer   \n",
       "\n",
       "    b.score  b.conversion  \n",
       "1  0.919414             0  \n",
       "2  1.477678             0  \n",
       "3  1.228426             1  \n",
       "4  1.186388             0  \n",
       "5  2.243689             1  "
      ]
     },
     "execution_count": 10,
     "metadata": {},
     "output_type": "execute_result"
    }
   ],
   "source": [
    "baseline_df.head()"
   ]
  },
  {
   "cell_type": "code",
   "execution_count": 11,
   "id": "ad9f002b-bd2e-4f0a-a630-0a001bed380d",
   "metadata": {},
   "outputs": [
    {
     "data": {
      "text/plain": [
       "m.job               string\n",
       "b.recency            int64\n",
       "b.used_discount      int64\n",
       "b.used_bogo          int64\n",
       "b.zip_code          string\n",
       "b.is_referral        int64\n",
       "b.channel           string\n",
       "b.offer             string\n",
       "b.score            float64\n",
       "b.conversion         int64\n",
       "dtype: object"
      ]
     },
     "execution_count": 11,
     "metadata": {},
     "output_type": "execute_result"
    }
   ],
   "source": [
    "baseline_df.dtypes"
   ]
  },
  {
   "cell_type": "markdown",
   "id": "60c30fb0-15f4-4ca0-b2b7-5518aeca0f83",
   "metadata": {},
   "source": [
    "##### Simple Data Viz"
   ]
  },
  {
   "cell_type": "code",
   "execution_count": 12,
   "id": "fcebffc4-1889-4f24-ac7c-37e67e1ab65d",
   "metadata": {},
   "outputs": [
    {
     "data": {
      "image/png": "[encoded data removed]",
      "text/plain": [
       "<Figure size 432x360 with 1 Axes>"
      ]
     },
     "metadata": {
      "needs_background": "light"
     },
     "output_type": "display_data"
    }
   ],
   "source": [
    "sns.catplot(x=\"b.channel\", y=\"b.score\", hue=\"b.conversion\", kind=\"swarm\", data=baseline_df).set(title='Referral vs Offer')\n",
    "plt.show()"
   ]
  },
  {
   "cell_type": "code",
   "execution_count": 13,
   "id": "bf7eccf0-818b-407d-b1e7-16772458ccc0",
   "metadata": {},
   "outputs": [
    {
     "data": {
      "image/png": "[encoded data removed]",
      "text/plain": [
       "<Figure size 432x360 with 1 Axes>"
      ]
     },
     "metadata": {
      "needs_background": "light"
     },
     "output_type": "display_data"
    }
   ],
   "source": [
    "sns.catplot(x=\"b.is_referral\", y=\"b.used_bogo\", hue=\"b.conversion\",\n",
    "            markers=[\"^\", \"o\"], linestyles=[\"-\", \"--\"],\n",
    "            kind=\"point\", data=baseline_df).set(title='Referral vs Offer')\n",
    "plt.show()"
   ]
  },
  {
   "cell_type": "markdown",
   "id": "e8bce644-5a10-46bb-b846-ff6a451d20fd",
   "metadata": {},
   "source": [
    "##### Investigating Target Class Imbalance"
   ]
  },
  {
   "cell_type": "code",
   "execution_count": 14,
   "id": "565572e6-6614-4618-a2c1-140aefc98b6e",
   "metadata": {},
   "outputs": [
    {
     "data": {
      "image/png": "[encoded data removed]",
      "text/plain": [
       "<Figure size 432x288 with 1 Axes>"
      ]
     },
     "metadata": {
      "needs_background": "light"
     },
     "output_type": "display_data"
    }
   ],
   "source": [
    "sns.countplot(x=\"b.conversion\", data=df).set(title='Offer Conversion Imbalance')\n",
    "plt.show()"
   ]
  },
  {
   "cell_type": "markdown",
   "id": "9cc23e7f-7953-416c-972f-62c905e04cac",
   "metadata": {},
   "source": [
    "Building a Model Evaluation Pipeline"
   ]
  },
  {
   "cell_type": "code",
   "execution_count": 15,
   "id": "9868eee5-e022-4c10-b8da-b28b2a7f2d45",
   "metadata": {},
   "outputs": [],
   "source": [
    "#Split data between training and test sets\n",
    "def split_data(df, target_name, test_size):\n",
    "    \n",
    "    y = df[target_name]\n",
    "    X = df.drop(target_name, axis=1)\n",
    "    \n",
    "    X_train, X_test, y_train, y_test = train_test_split(X, y, test_size=test_size, random_state = 1)\n",
    "\n",
    "    return X_train, X_test, y_train, y_test"
   ]
  },
  {
   "cell_type": "code",
   "execution_count": 16,
   "id": "6f620e4c-f499-4af9-9fbe-9b6d6f3da322",
   "metadata": {},
   "outputs": [],
   "source": [
    "def create_pipeline(clf):\n",
    "    \n",
    "    numeric_transformer = Pipeline(steps=[\n",
    "        ('imputer', SimpleImputer(strategy='mean')),\n",
    "        ('scaler', RobustScaler())])\n",
    "    \n",
    "    cat_transformer = Pipeline(steps=[\n",
    "        ('imputer', SimpleImputer(strategy='constant')),\n",
    "        ('ohe', OneHotEncoder(handle_unknown='ignore', sparse=False))])\n",
    "\n",
    "    preprocessor = ColumnTransformer(\n",
    "        transformers=[('num', numeric_transformer, numeric_features),\n",
    "                      ('cat', cat_transformer, cat_features),], remainder='passthrough')\n",
    "    \n",
    "    clf_name = type(clf).__name__\n",
    "\n",
    "    # Append classifier to preprocessing pipeline.\n",
    "    pipe = Pipeline(steps=[('preprocessor', preprocessor),(clf_name, clf)])\n",
    "\n",
    "    return pipe"
   ]
  },
  {
   "cell_type": "code",
   "execution_count": 17,
   "id": "dad93ce8-6977-45c2-b18d-ce27a5e5bcb7",
   "metadata": {},
   "outputs": [],
   "source": [
    "def test_model(clfs, df, y_name, scoring_metric):\n",
    "    \n",
    "    X_train, X_test, y_train, y_test = split_data(df, y_name, 0.33)\n",
    "    \n",
    "    cv_results = {}\n",
    "    test_results = {}\n",
    "    best_estimators = {}\n",
    "    \n",
    "    #Iterate through each model:\n",
    "    for clf in clfs.items():\n",
    "        \n",
    "        pipe = create_pipeline(clf[0])\n",
    "    \n",
    "        gs = GridSearchCV(pipe, param_grid=clf[1], cv=5, scoring=scoring_metric, n_jobs=-1)\n",
    "        \n",
    "        gs.fit(X_train,y_train)\n",
    "        \n",
    "        cv_metric = cross_val_score(gs, X_train, y_train, cv=3)\n",
    "        \n",
    "        test_score = gs.score(X_test, y_test)\n",
    "        \n",
    "        best_estimators[type(clf[0]).__name__] = gs.best_estimator_\n",
    "        \n",
    "        cv_results[type(clf[0]).__name__] = cv_metric\n",
    "        \n",
    "        test_results[type(clf[0]).__name__] = test_score\n",
    "    \n",
    "    return cv_results, test_results, best_estimators"
   ]
  },
  {
   "cell_type": "code",
   "execution_count": 18,
   "id": "dae33ab2-e149-45a3-b301-fe8021b210a4",
   "metadata": {},
   "outputs": [],
   "source": [
    "clfs = {\n",
    "        AdaBoostClassifier(DecisionTreeClassifier(max_depth = 5, max_features=10, class_weight='balanced'))\n",
    "                                            :{\n",
    "                                            'AdaBoostClassifier__learning_rate':[0.6, 0.9],\n",
    "                                            'AdaBoostClassifier__n_estimators':[10]},\n",
    "        \n",
    "        RandomForestClassifier():{\n",
    "                                            'RandomForestClassifier__max_depth':[10], \n",
    "                                            'RandomForestClassifier__min_samples_leaf':[20000],\n",
    "                                            'RandomForestClassifier__min_samples_split':[10000], \n",
    "                                            'RandomForestClassifier__class_weight':['balanced'], \n",
    "                                            'RandomForestClassifier__n_estimators':[10]}\n",
    "        }"
   ]
  },
  {
   "cell_type": "code",
   "execution_count": 19,
   "id": "f3aceec0-2cb3-4b6d-aa1b-a77b4b0ff648",
   "metadata": {},
   "outputs": [],
   "source": [
    "X_train, X_test, y_train, y_test = split_data(baseline_df, 'b.conversion', 0.3)"
   ]
  },
  {
   "cell_type": "code",
   "execution_count": 20,
   "id": "b178abad-51c8-445c-8d72-255b0733b105",
   "metadata": {},
   "outputs": [],
   "source": [
    "numeric_features = list(baseline_df.select_dtypes(include=['int', 'float']).columns)\n",
    "numeric_features.remove('b.conversion')"
   ]
  },
  {
   "cell_type": "code",
   "execution_count": 21,
   "id": "fd772b1f-27c7-4237-98fd-4b594b1c2fa8",
   "metadata": {},
   "outputs": [],
   "source": [
    "cat_features = list(baseline_df.select_dtypes(exclude=['int', 'float']).columns)\n",
    "#cat_features.remove('b.conversion')"
   ]
  },
  {
   "cell_type": "code",
   "execution_count": 22,
   "id": "fd6a195b-ee4a-4c90-8d21-146c2fc29221",
   "metadata": {},
   "outputs": [],
   "source": [
    "#cat_features + numeric_features"
   ]
  },
  {
   "cell_type": "code",
   "execution_count": 23,
   "id": "3901f9f7-9dec-42d4-a5bc-ae72f8066324",
   "metadata": {},
   "outputs": [],
   "source": [
    "cv_results, test_results, best_estimators = test_model(clfs, baseline_df, 'b.conversion', 'accuracy')"
   ]
  },
  {
   "cell_type": "code",
   "execution_count": 24,
   "id": "6c43b0d7-aeae-4fae-b619-9bae87a7444e",
   "metadata": {},
   "outputs": [],
   "source": [
    "#Simple visualization of outcomes:\n",
    "def visualize_results(results):\n",
    "    \n",
    "    res = pd.DataFrame(results).round(4)\n",
    "    \n",
    "    fig, ax1 = plt.subplots(figsize=(len(res.columns)*3,4))\n",
    "    sns.boxplot(data=res, ax=ax1)\n",
    "    plt.suptitle('Model Evaluation Report')\n",
    "    plt.show()"
   ]
  },
  {
   "cell_type": "code",
   "execution_count": 25,
   "id": "250ef5c5-9199-4ca6-80ac-56df3f1c12c9",
   "metadata": {},
   "outputs": [
    {
     "data": {
      "image/png": "[encoded data removed]",
      "text/plain": [
       "<Figure size 432x288 with 1 Axes>"
      ]
     },
     "metadata": {
      "needs_background": "light"
     },
     "output_type": "display_data"
    }
   ],
   "source": [
    "visualize_results(cv_results)"
   ]
  },
  {
   "cell_type": "code",
   "execution_count": 26,
   "id": "46d6ba43-a8be-4b9f-a6c2-fbcd23631b14",
   "metadata": {},
   "outputs": [],
   "source": [
    "from yellowbrick.model_selection import ValidationCurve\n",
    "from yellowbrick.model_selection import LearningCurve\n",
    "from yellowbrick.classifier import ClassificationReport, PrecisionRecallCurve, ConfusionMatrix"
   ]
  },
  {
   "cell_type": "code",
   "execution_count": 27,
   "id": "8e1ad083-24fa-4883-83fb-491ac0c5a2ac",
   "metadata": {},
   "outputs": [],
   "source": [
    "def conf_matrix(clf, X_train, X_test, y_train, y_test):\n",
    "    fig, ax = plt.subplots(figsize=(8,5))\n",
    "\n",
    "    cm = ConfusionMatrix(clf, classes=[0,1], ax=ax)\n",
    "    cm.fit(X_train, y_train)\n",
    "    cm.score(X_test, y_test)\n",
    "\n",
    "    ax.set(title='GBM Confusion Matrix', xlabel='Predicted Class', ylabel='True Class')\n",
    "\n",
    "    cm.poof()"
   ]
  },
  {
   "cell_type": "code",
   "execution_count": 28,
   "id": "0353fdb0-612c-4854-a09e-41f471d9d31d",
   "metadata": {},
   "outputs": [
    {
     "name": "stderr",
     "output_type": "stream",
     "text": [
      "findfont: Font family ['sans-serif'] not found. Falling back to DejaVu Sans.\n",
      "findfont: Font family ['sans-serif'] not found. Falling back to DejaVu Sans.\n"
     ]
    },
    {
     "data": {
      "image/png": "[encoded data removed]",
      "text/plain": [
       "<Figure size 576x360 with 1 Axes>"
      ]
     },
     "metadata": {},
     "output_type": "display_data"
    }
   ],
   "source": [
    "conf_matrix(best_estimators['AdaBoostClassifier'], X_train, X_test, y_train, y_test)"
   ]
  },
  {
   "cell_type": "code",
   "execution_count": 29,
   "id": "200c9040-3f99-4d27-bb87-fd6ebd6761cf",
   "metadata": {},
   "outputs": [],
   "source": [
    "def val_curves(clf, param_name, param_range, cv, X_train, y_train, scoring):\n",
    "\n",
    "    fig, ax = plt.subplots(figsize=(8,4))\n",
    "\n",
    "    viz_vc_bg = ValidationCurve(\n",
    "                    clf, param_name=param_name,\n",
    "                    param_range=param_range, cv=cv, \n",
    "                    scoring=scoring, ax=ax)\n",
    "\n",
    "    viz_vc_bg.fit(X_train, y_train)\n",
    "    \n",
    "    clf_name = type(clf).__name__\n",
    "    title = \"Validation Curves for: {}\".format(clf_name)\n",
    "    \n",
    "    ax.set(title=title, ylabel='Score')\n",
    "    ax.legend().set_visible(True)\n",
    "\n",
    "    viz_vc_bg.poof()"
   ]
  },
  {
   "cell_type": "code",
   "execution_count": 30,
   "id": "5c215c73-24a4-4200-8037-c924040ba6f9",
   "metadata": {},
   "outputs": [],
   "source": [
    "def learn_curves(clf, cv, X_train, y_train, scoring):\n",
    "\n",
    "    fig, ax = plt.subplots(figsize=(8,4))\n",
    "\n",
    "    viz_lc_bg = LearningCurve(clf, train_sizes = np.linspace(0.1, 1.0, 10), \n",
    "                              scoring=scoring, cv=cv, ax=ax)\n",
    "\n",
    "    # Fit and poof the visualizer\n",
    "    viz_lc_bg.fit(X_train, y_train)\n",
    "\n",
    "    ax.set(title='Learning Curves', xlabel='Training Instances', ylabel='Score')\n",
    "\n",
    "    ax.legend().set_visible(True)\n",
    "\n",
    "    viz_lc_bg.poof()"
   ]
  },
  {
   "cell_type": "code",
   "execution_count": 31,
   "id": "fc213dee-e872-4ee7-bf22-15ce59db9a08",
   "metadata": {},
   "outputs": [
    {
     "name": "stderr",
     "output_type": "stream",
     "text": [
      "/home/cdsw/.local/lib/python3.7/site-packages/sklearn/ensemble/_weight_boosting.py:607: RuntimeWarning: overflow encountered in exp\n",
      "  estimator_weight * ((sample_weight > 0) | (estimator_weight < 0))\n",
      "/home/cdsw/.local/lib/python3.7/site-packages/sklearn/ensemble/_weight_boosting.py:486: UserWarning: Sample weights have reached infinite values, at iteration 1, causing overflow. Iterations stopped. Try lowering the learning rate.\n",
      "  return super().fit(X, y, sample_weight)\n",
      "/home/cdsw/.local/lib/python3.7/site-packages/sklearn/ensemble/_weight_boosting.py:607: RuntimeWarning: overflow encountered in exp\n",
      "  estimator_weight * ((sample_weight > 0) | (estimator_weight < 0))\n",
      "/home/cdsw/.local/lib/python3.7/site-packages/sklearn/ensemble/_weight_boosting.py:486: UserWarning: Sample weights have reached infinite values, at iteration 1, causing overflow. Iterations stopped. Try lowering the learning rate.\n",
      "  return super().fit(X, y, sample_weight)\n",
      "findfont: Font family ['sans-serif'] not found. Falling back to DejaVu Sans.\n"
     ]
    },
    {
     "data": {
      "image/png": "[encoded data removed]",
      "text/plain": [
       "<Figure size 576x288 with 1 Axes>"
      ]
     },
     "metadata": {},
     "output_type": "display_data"
    }
   ],
   "source": [
    "val_curves(best_estimators['AdaBoostClassifier'], \n",
    "           'AdaBoostClassifier__learning_rate', [10, 30, 60], 3, X_train, y_train, 'accuracy')"
   ]
  },
  {
   "cell_type": "code",
   "execution_count": 32,
   "id": "7931721f-6163-48fe-8b0b-25369b1ac836",
   "metadata": {},
   "outputs": [
    {
     "data": {
      "image/png": "[encoded data removed]",
      "text/plain": [
       "<Figure size 576x288 with 1 Axes>"
      ]
     },
     "metadata": {},
     "output_type": "display_data"
    }
   ],
   "source": [
    "learn_curves(best_estimators['AdaBoostClassifier'], 3, X_train, y_train, 'accuracy')"
   ]
  },
  {
   "cell_type": "code",
   "execution_count": 33,
   "id": "99c2bf25-53de-4e2c-bb57-a98a3ea26e13",
   "metadata": {},
   "outputs": [],
   "source": [
    "import pickle"
   ]
  },
  {
   "cell_type": "code",
   "execution_count": 34,
   "id": "bbaae92a-ded1-44a0-8287-c50d074e96a2",
   "metadata": {},
   "outputs": [],
   "source": [
    "filename = 'models/adaboost.joblib'\n",
    "pickle.dump(best_estimators['AdaBoostClassifier'], open(filename, 'wb'))"
   ]
  },
  {
   "cell_type": "code",
   "execution_count": null,
   "id": "8cda72c1-24af-48c0-accc-cd89cc928eb9",
   "metadata": {},
   "outputs": [],
   "source": []
  }
 ],
 "metadata": {
  "kernelspec": {
   "display_name": "Python 3 (ipykernel)",
   "language": "python",
   "name": "python3"
  },
  "language_info": {
   "codemirror_mode": {
    "name": "ipython",
    "version": 3
   },
   "file_extension": ".py",
   "mimetype": "text/x-python",
   "name": "python",
   "nbconvert_exporter": "python",
   "pygments_lexer": "ipython3",
   "version": "3.7.13"
  }
 },
 "nbformat": 4,
 "nbformat_minor": 5
}
