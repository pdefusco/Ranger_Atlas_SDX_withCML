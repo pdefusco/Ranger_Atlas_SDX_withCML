{
 "cells": [
  {
   "cell_type": "markdown",
   "metadata": {},
   "source": [
    "# Customising splink - configuration and settings"
   ]
  },
  {
   "cell_type": "markdown",
   "metadata": {},
   "source": [
    "In the [quickstart deduplication demo](quickstart_demo_deduplication.ipynb) we saw an example of how to use `splink`.  There was minimal customisation of the settings - the demo relies on the fact that when settings are not specified by the user, `splink` uses sensible default values.  \n",
    "\n",
    "Not all settings have defaults - at minimum the user needs to choose the `link_type`, the `blocking_rules` and the `comparison_columns`.\n",
    "\n",
    "In most real-world applications, more accurate results will be obtained by customising the settings, often by trial and error. \n",
    "\n",
    "The main way to do this is through the `settings` dictionary.  This is passed to `splink` like so:\n",
    "\n",
    "\n",
    "```python\n",
    "from splink import Splink\n",
    "\n",
    "settings = { }  # Settings dictionary goes here\n",
    "\n",
    "linker = Splink(settings, spark, df=df)\n",
    "```\n",
    "\n",
    "You can view 'sensible default' values that have been chosen for the other columns as follows:\n",
    "\n",
    "```python\n",
    "from splink.settings import complete_settings_dict\n",
    "complete_settings_dict(settings)\n",
    "```\n",
    "\n",
    "This settings dictionary can be quite complicated.  \n",
    "\n",
    "We provide an [autocompleting settings editor](https://moj-analytical-services.github.io/splink_settings_editor/), which makes it quicker and easier to write settings dictionaries.  At the bottom of this page, there is a 'settings dictionary key explorer', which allow you to see a full description of each setting and what it does.\n",
    "\n",
    "\n",
    "This tools relies on the formal [json schema](https://github.com/moj-analytical-services/splink/blob/master/splink/files/settings_jsonschema.json) of the settings object.  You can also use this schema in some text editors to enable autocompletion - e.g. see [here](https://code.visualstudio.com/docs/languages/json#_intellisense-and-validation) for VS Code.\n",
    "\n",
    "You can also validate a settings object within Python with the following code:\n",
    "\n",
    "```python\n",
    "from splink.validate import validate_settings\n",
    "validate_settings(settings)\n",
    "```\n",
    "\n",
    "For more qualitative guidance about building a settings dictionary, see the [best practices and identifying problems](best_practices.ipynb) notebook."
   ]
  },
  {
   "cell_type": "code",
   "execution_count": null,
   "metadata": {},
   "outputs": [],
   "source": []
  }
 ],
 "metadata": {
  "kernelspec": {
   "display_name": "Python 3",
   "language": "python",
   "name": "python3"
  },
  "language_info": {
   "codemirror_mode": {
    "name": "ipython",
    "version": 3
   },
   "file_extension": ".py",
   "mimetype": "text/x-python",
   "name": "python",
   "nbconvert_exporter": "python",
   "pygments_lexer": "ipython3",
   "version": "3.6.9"
  }
 },
 "nbformat": 4,
 "nbformat_minor": 4
}
