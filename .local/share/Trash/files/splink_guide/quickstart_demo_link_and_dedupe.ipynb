{
 "cells": [
  {
   "cell_type": "markdown",
   "metadata": {},
   "source": [
    "## Splink data linking and deduplication demo \n",
    "\n",
    "In this demo we link and simultaneously two datasets which themselves contain duplicates.\n",
    "\n",
    "The purpose is to provide an end-to-end example of how to use the package\n",
    "\n",
    "I print the output at each stage using `spark_dataframe.show()`.  This is for instructional purposes only - it degrades performance and shouldn't be used in a production setting."
   ]
  },
  {
   "cell_type": "markdown",
   "metadata": {},
   "source": [
    "## Step 1:  Imports and setup\n",
    "\n",
    "The following is just boilerplate code that sets up the Spark session and sets some other non-essential configuration options"
   ]
  },
  {
   "cell_type": "code",
   "execution_count": 1,
   "metadata": {},
   "outputs": [],
   "source": [
    "import pandas as pd \n",
    "pd.options.display.max_columns = 500\n",
    "pd.options.display.max_rows = 100"
   ]
  },
  {
   "cell_type": "code",
   "execution_count": 2,
   "metadata": {},
   "outputs": [],
   "source": [
    "import logging \n",
    "logging.basicConfig()  # Means logs will print in Jupyter Lab\n",
    "\n",
    "# Set to DEBUG if you want splink to log the SQL statements it's executing under the hood\n",
    "logging.getLogger(\"splink\").setLevel(logging.INFO)"
   ]
  },
  {
   "cell_type": "code",
   "execution_count": 3,
   "metadata": {},
   "outputs": [],
   "source": [
    "from utility_functions.demo_utils import get_spark\n",
    "spark = get_spark()"
   ]
  },
  {
   "cell_type": "markdown",
   "metadata": {},
   "source": [
    "## Step 2:  Read in data\n",
    "\n",
    "The `l` and `r` stand for 'left' and 'right.  It doesn't matter which of the two datasets you choose as the left, performance and results will be the same.\n",
    "\n",
    "\n",
    "⚠️ Note that `splink` makes the following assumptions about your data:\n",
    "\n",
    "-  There is a field containing a unique record identifier in each dataset\n",
    "-  The two datasets being linked have common column names - e.g. date of birth is represented in both datasets in a field of the same name.   In many cases, this means that the user needs to rename columns prior to using `splink`\n"
   ]
  },
  {
   "cell_type": "code",
   "execution_count": 4,
   "metadata": {},
   "outputs": [
    {
     "name": "stdout",
     "output_type": "stream",
     "text": [
      "+---------+----------+-------+----------+------------+--------------------+-----+\n",
      "|unique_id|first_name|surname|       dob|        city|               email|group|\n",
      "+---------+----------+-------+----------+------------+--------------------+-----+\n",
      "|        0|    Julia |   null|2015-10-29|      London| hannah88@powers.com|    0|\n",
      "|        1|    Julia | Taylor|2015-07-31|      London| hannah88@powers.com|    0|\n",
      "|        2|      oNah| Watson|2008-03-23|      Bolton|matthew78@ballard...|    1|\n",
      "|        3|     Noah | Watson|2008-03-23|      Bolton|matthew78@ballard...|    1|\n",
      "|        4|    Molly |   Bell|2002-01-05|Peterborough|                null|    2|\n",
      "+---------+----------+-------+----------+------------+--------------------+-----+\n",
      "only showing top 5 rows\n",
      "\n",
      "+---------+----------+-------+----------+------+--------------------+-----+\n",
      "|unique_id|first_name|surname|       dob|  city|               email|group|\n",
      "+---------+----------+-------+----------+------+--------------------+-----+\n",
      "|        0|    Julia | Taylor|2016-01-27|London| hannah88@powers.com|    0|\n",
      "|        1|    Julia | Taylor|2015-10-29|  null|  hannah88opowersc@m|    0|\n",
      "|        2|    Watson|  Noah |2008-03-23|  null|matthew78@ballard...|    1|\n",
      "|        3|     Noah | Watson|2008-02-05| tolon|matthew78@ballard...|    1|\n",
      "|        4|    Watson|  Noah |2008-06-15|Bolton|matthew78@ballard...|    1|\n",
      "+---------+----------+-------+----------+------+--------------------+-----+\n",
      "only showing top 5 rows\n",
      "\n"
     ]
    }
   ],
   "source": [
    "\n",
    "from pyspark.sql import functions as f\n",
    "df_l = spark.read.parquet(\"data/fake_df_l_link_dedupe_test.parquet\")\n",
    "df_r = spark.read.parquet(\"data/fake_df_r_link_dedupe_test.parquet\")\n",
    "df_l.show(5)\n",
    "df_r.show(5)"
   ]
  },
  {
   "cell_type": "markdown",
   "metadata": {},
   "source": [
    "## Step 3:  Configure splink using the `settings` object\n",
    "\n",
    "Most of `splink` configuration options are stored in a settings dictionary.  This dictionary allows significant customisation, and can therefore get quite complex.  \n",
    "\n",
    "💥 We provide an tool for helping to author valid settings dictionaries, which includes tooltips and autocomplete, which you can find [here](http://robinlinacre.com/splink_settings_editor/).\n",
    "\n",
    "Customisation overrides default values built into splink.  For the purposes of this demo, we will specify a simple settings dictionary, which means we will be relying on these sensible defaults.\n",
    "\n",
    "To help with authoring and validation of the settings dictionary, we have written a [json schema](https://json-schema.org/), which can be found [here](https://github.com/moj-analytical-services/splink/blob/master/splink/files/settings_jsonschema.json).  \n",
    "\n",
    "\n"
   ]
  },
  {
   "cell_type": "code",
   "execution_count": 5,
   "metadata": {},
   "outputs": [],
   "source": [
    "settings = {\n",
    "    \"link_type\": \"link_and_dedupe\",\n",
    "    \"blocking_rules\": [\n",
    "        \"l.first_name = r.first_name\",\n",
    "        \"l.surname = r.surname\",\n",
    "        \"l.dob = r.dob\"\n",
    "    ],\n",
    "    \"comparison_columns\": [\n",
    "       {\n",
    "        \"custom_name\": \"name_inversion\",\n",
    "        \"custom_columns_used\": [\"first_name\", \"surname\", \"dob\"],\n",
    "        \"case_expression\": \"CASE WHEN first_name_l = first_name_r AND surname_l = surname_r THEN 2 WHEN first_name_l = surname_r AND surname_l = first_name_r THEN 1 ELSE 0 END\",\n",
    "        \"num_levels\": 3\n",
    "        },\n",
    "        {\n",
    "            \"col_name\": \"dob\"\n",
    "        },\n",
    "        {\n",
    "            \"col_name\": \"city\"\n",
    "        },\n",
    "        {\n",
    "            \"col_name\": \"email\"\n",
    "        }\n",
    "    ],\n",
    "    \"additional_columns_to_retain\": [\"group\"]\n",
    "}"
   ]
  },
  {
   "cell_type": "markdown",
   "metadata": {},
   "source": [
    "In words, this setting dictionary says:\n",
    "- We are performing a link and deduplication task (the other options are `link_only`, or `dedupe_only`)\n",
    "- We are going generate comparisons subject to the blocking rules contained in the specified array\n",
    "- When comparing records, we will use information from the `first_name`, `surname`, `dob`, `city` and `email` columns to compute a match score.\n",
    "- For `first_name` and `surname`, string comparisons will have three levels:\n",
    "    - Level 2: Strings are (almost) exactly the same\n",
    "    - Level 1: Strings are similar \n",
    "    - Level 0: No match\n",
    "- We will make adjustments for term frequencies on the `first_name` and `surname` columns\n",
    "- We will retain the `group` column in the results even though this is not used as part of comparisons.  This is a labelled dataset and `group` contains the true match - i.e. where group matches, the records pertain to the same person"
   ]
  },
  {
   "cell_type": "markdown",
   "metadata": {},
   "source": [
    "## Step 4:  Estimate match scores using the Expectation Maximisation algorithm\n",
    "Columns are assumed to be strings by default.  See the 'comparison vector settings' notebook for details of configuration options."
   ]
  },
  {
   "cell_type": "code",
   "execution_count": 6,
   "metadata": {},
   "outputs": [
    {
     "name": "stderr",
     "output_type": "stream",
     "text": [
      "INFO:splink.iterate:Iteration 0 complete\n",
      "INFO:splink.params:The maximum change in parameters was 0.46443518400192263 for key π_gamma_name_inversion_prob_dist_match_level_0_probability\n",
      "INFO:splink.iterate:Iteration 1 complete\n",
      "INFO:splink.params:The maximum change in parameters was 0.05639684200286865 for key π_gamma_city_prob_dist_match_level_1_probability\n",
      "INFO:splink.iterate:Iteration 2 complete\n",
      "INFO:splink.params:The maximum change in parameters was 0.026586294174194336 for key π_gamma_city_prob_dist_match_level_1_probability\n",
      "INFO:splink.iterate:Iteration 3 complete\n",
      "INFO:splink.params:The maximum change in parameters was 0.01431041955947876 for key π_gamma_dob_prob_dist_non_match_level_0_probability\n",
      "INFO:splink.iterate:Iteration 4 complete\n",
      "INFO:splink.params:The maximum change in parameters was 0.011147737503051758 for key π_gamma_email_prob_dist_match_level_1_probability\n",
      "INFO:splink.iterate:Iteration 5 complete\n",
      "INFO:splink.params:The maximum change in parameters was 0.007976114749908447 for key π_gamma_email_prob_dist_match_level_1_probability\n",
      "INFO:splink.iterate:Iteration 6 complete\n",
      "INFO:splink.params:The maximum change in parameters was 0.005550578236579895 for key π_gamma_email_prob_dist_match_level_0_probability\n",
      "INFO:splink.iterate:Iteration 7 complete\n",
      "INFO:splink.params:The maximum change in parameters was 0.0038929060101509094 for key π_gamma_email_prob_dist_match_level_0_probability\n",
      "INFO:splink.iterate:Iteration 8 complete\n",
      "INFO:splink.params:The maximum change in parameters was 0.0027822405099868774 for key π_gamma_email_prob_dist_match_level_0_probability\n",
      "INFO:splink.iterate:Iteration 9 complete\n",
      "INFO:splink.params:The maximum change in parameters was 0.002029426395893097 for key π_gamma_email_prob_dist_match_level_0_probability\n",
      "INFO:splink.iterate:Iteration 10 complete\n",
      "INFO:splink.params:The maximum change in parameters was 0.0015082359313964844 for key π_gamma_email_prob_dist_match_level_1_probability\n",
      "INFO:splink.iterate:Iteration 11 complete\n",
      "INFO:splink.params:The maximum change in parameters was 0.0011389926075935364 for key π_gamma_email_prob_dist_match_level_0_probability\n",
      "INFO:splink.iterate:Iteration 12 complete\n",
      "INFO:splink.params:The maximum change in parameters was 0.0008717179298400879 for key π_gamma_email_prob_dist_match_level_1_probability\n",
      "INFO:splink.iterate:Iteration 13 complete\n",
      "INFO:splink.params:The maximum change in parameters was 0.0006744265556335449 for key π_gamma_email_prob_dist_match_level_1_probability\n",
      "INFO:splink.iterate:Iteration 14 complete\n",
      "INFO:splink.params:The maximum change in parameters was 0.0005263835191726685 for key π_gamma_email_prob_dist_match_level_0_probability\n",
      "INFO:splink.iterate:Iteration 15 complete\n",
      "INFO:splink.params:The maximum change in parameters was 0.000413745641708374 for key π_gamma_email_prob_dist_match_level_0_probability\n",
      "INFO:splink.iterate:Iteration 16 complete\n",
      "INFO:splink.params:The maximum change in parameters was 0.00032705068588256836 for key π_gamma_email_prob_dist_match_level_1_probability\n",
      "INFO:splink.iterate:Iteration 17 complete\n",
      "INFO:splink.params:The maximum change in parameters was 0.00025969743728637695 for key π_gamma_email_prob_dist_match_level_1_probability\n",
      "INFO:splink.iterate:Iteration 18 complete\n",
      "INFO:splink.params:The maximum change in parameters was 0.0002069026231765747 for key π_gamma_email_prob_dist_match_level_0_probability\n",
      "INFO:splink.iterate:Iteration 19 complete\n",
      "INFO:splink.params:The maximum change in parameters was 0.0001653134822845459 for key π_gamma_email_prob_dist_match_level_0_probability\n",
      "INFO:splink.iterate:Iteration 20 complete\n",
      "INFO:splink.params:The maximum change in parameters was 0.00013238191604614258 for key π_gamma_email_prob_dist_match_level_0_probability\n",
      "INFO:splink.iterate:Iteration 21 complete\n",
      "INFO:splink.params:The maximum change in parameters was 0.0001062154769897461 for key π_gamma_email_prob_dist_match_level_1_probability\n",
      "INFO:splink.iterate:Iteration 22 complete\n",
      "INFO:splink.params:The maximum change in parameters was 8.530914783477783e-05 for key π_gamma_email_prob_dist_match_level_0_probability\n",
      "INFO:splink.iterate:EM algorithm has converged\n"
     ]
    }
   ],
   "source": [
    "from splink import Splink\n",
    "\n",
    "linker = Splink(settings, spark, df_l=df_l, df_r=df_r)\n",
    "df_e = linker.get_scored_comparisons()\n"
   ]
  },
  {
   "cell_type": "markdown",
   "metadata": {},
   "source": [
    "## Step 5: Inspect results \n",
    "\n",
    "Each row in the results table represents a comparison of two input records.\n",
    "\n",
    "Note that since this is a link and dedupe task, there will be record comparisons of three types:\n",
    "-  Comparison between two records both originating from `df_l`.  \n",
    "-  Comparison between two records both originating from `df_r`.  \n",
    "-  Comparison between one record from `df_l` and one record from `df_r`\n",
    "\n",
    "Information about the source table is included in the `_source_table_l` and `_source_table_r` fields."
   ]
  },
  {
   "cell_type": "code",
   "execution_count": 7,
   "metadata": {},
   "outputs": [
    {
     "data": {
      "text/html": [
       "<div>\n",
       "<style scoped>\n",
       "    .dataframe tbody tr th:only-of-type {\n",
       "        vertical-align: middle;\n",
       "    }\n",
       "\n",
       "    .dataframe tbody tr th {\n",
       "        vertical-align: top;\n",
       "    }\n",
       "\n",
       "    .dataframe thead th {\n",
       "        text-align: right;\n",
       "    }\n",
       "</style>\n",
       "<table border=\"1\" class=\"dataframe\">\n",
       "  <thead>\n",
       "    <tr style=\"text-align: right;\">\n",
       "      <th></th>\n",
       "      <th>match_probability</th>\n",
       "      <th>unique_id_l</th>\n",
       "      <th>_source_table_l</th>\n",
       "      <th>unique_id_r</th>\n",
       "      <th>_source_table_r</th>\n",
       "      <th>group_l</th>\n",
       "      <th>group_r</th>\n",
       "      <th>first_name_l</th>\n",
       "      <th>first_name_r</th>\n",
       "      <th>surname_l</th>\n",
       "      <th>surname_r</th>\n",
       "      <th>dob_l</th>\n",
       "      <th>dob_r</th>\n",
       "      <th>city_l</th>\n",
       "      <th>city_r</th>\n",
       "      <th>email_l</th>\n",
       "      <th>email_r</th>\n",
       "    </tr>\n",
       "  </thead>\n",
       "  <tbody>\n",
       "    <tr>\n",
       "      <th>1</th>\n",
       "      <td>0.999956</td>\n",
       "      <td>0</td>\n",
       "      <td>left</td>\n",
       "      <td>0</td>\n",
       "      <td>right</td>\n",
       "      <td>0</td>\n",
       "      <td>0</td>\n",
       "      <td>Julia</td>\n",
       "      <td>Julia</td>\n",
       "      <td>None</td>\n",
       "      <td>Taylor</td>\n",
       "      <td>2015-10-29</td>\n",
       "      <td>2016-01-27</td>\n",
       "      <td>London</td>\n",
       "      <td>London</td>\n",
       "      <td>hannah88@powers.com</td>\n",
       "      <td>hannah88@powers.com</td>\n",
       "    </tr>\n",
       "    <tr>\n",
       "      <th>0</th>\n",
       "      <td>0.999999</td>\n",
       "      <td>0</td>\n",
       "      <td>left</td>\n",
       "      <td>1</td>\n",
       "      <td>right</td>\n",
       "      <td>0</td>\n",
       "      <td>0</td>\n",
       "      <td>Julia</td>\n",
       "      <td>Julia</td>\n",
       "      <td>None</td>\n",
       "      <td>Taylor</td>\n",
       "      <td>2015-10-29</td>\n",
       "      <td>2015-10-29</td>\n",
       "      <td>London</td>\n",
       "      <td>None</td>\n",
       "      <td>hannah88@powers.com</td>\n",
       "      <td>hannah88opowersc@m</td>\n",
       "    </tr>\n",
       "    <tr>\n",
       "      <th>2</th>\n",
       "      <td>0.999956</td>\n",
       "      <td>0</td>\n",
       "      <td>left</td>\n",
       "      <td>1</td>\n",
       "      <td>left</td>\n",
       "      <td>0</td>\n",
       "      <td>0</td>\n",
       "      <td>Julia</td>\n",
       "      <td>Julia</td>\n",
       "      <td>None</td>\n",
       "      <td>Taylor</td>\n",
       "      <td>2015-10-29</td>\n",
       "      <td>2015-07-31</td>\n",
       "      <td>London</td>\n",
       "      <td>London</td>\n",
       "      <td>hannah88@powers.com</td>\n",
       "      <td>hannah88@powers.com</td>\n",
       "    </tr>\n",
       "    <tr>\n",
       "      <th>1213</th>\n",
       "      <td>0.999995</td>\n",
       "      <td>0</td>\n",
       "      <td>right</td>\n",
       "      <td>1</td>\n",
       "      <td>right</td>\n",
       "      <td>0</td>\n",
       "      <td>0</td>\n",
       "      <td>Julia</td>\n",
       "      <td>Julia</td>\n",
       "      <td>Taylor</td>\n",
       "      <td>Taylor</td>\n",
       "      <td>2016-01-27</td>\n",
       "      <td>2015-10-29</td>\n",
       "      <td>London</td>\n",
       "      <td>None</td>\n",
       "      <td>hannah88@powers.com</td>\n",
       "      <td>hannah88opowersc@m</td>\n",
       "    </tr>\n",
       "    <tr>\n",
       "      <th>3585</th>\n",
       "      <td>0.041685</td>\n",
       "      <td>0</td>\n",
       "      <td>right</td>\n",
       "      <td>97</td>\n",
       "      <td>right</td>\n",
       "      <td>0</td>\n",
       "      <td>26</td>\n",
       "      <td>Julia</td>\n",
       "      <td>Harry</td>\n",
       "      <td>Taylor</td>\n",
       "      <td>Taylor</td>\n",
       "      <td>2016-01-27</td>\n",
       "      <td>2017-09-01</td>\n",
       "      <td>London</td>\n",
       "      <td>London</td>\n",
       "      <td>hannah88@powers.com</td>\n",
       "      <td>coltonray@lee.com</td>\n",
       "    </tr>\n",
       "    <tr>\n",
       "      <th>3584</th>\n",
       "      <td>0.041685</td>\n",
       "      <td>0</td>\n",
       "      <td>right</td>\n",
       "      <td>245</td>\n",
       "      <td>right</td>\n",
       "      <td>0</td>\n",
       "      <td>62</td>\n",
       "      <td>Julia</td>\n",
       "      <td>Nancy</td>\n",
       "      <td>Taylor</td>\n",
       "      <td>Taylor</td>\n",
       "      <td>2016-01-27</td>\n",
       "      <td>1989-07-25</td>\n",
       "      <td>London</td>\n",
       "      <td>London</td>\n",
       "      <td>hannah88@powers.com</td>\n",
       "      <td>wagnershane@landry.com</td>\n",
       "    </tr>\n",
       "    <tr>\n",
       "      <th>3583</th>\n",
       "      <td>0.041685</td>\n",
       "      <td>0</td>\n",
       "      <td>right</td>\n",
       "      <td>246</td>\n",
       "      <td>right</td>\n",
       "      <td>0</td>\n",
       "      <td>62</td>\n",
       "      <td>Julia</td>\n",
       "      <td>Nancy</td>\n",
       "      <td>Taylor</td>\n",
       "      <td>Taylor</td>\n",
       "      <td>2016-01-27</td>\n",
       "      <td>1989-08-19</td>\n",
       "      <td>London</td>\n",
       "      <td>London</td>\n",
       "      <td>hannah88@powers.com</td>\n",
       "      <td>wagnershane@landry.com</td>\n",
       "    </tr>\n",
       "    <tr>\n",
       "      <th>3582</th>\n",
       "      <td>0.041685</td>\n",
       "      <td>0</td>\n",
       "      <td>right</td>\n",
       "      <td>248</td>\n",
       "      <td>right</td>\n",
       "      <td>0</td>\n",
       "      <td>62</td>\n",
       "      <td>Julia</td>\n",
       "      <td>Nacy</td>\n",
       "      <td>Taylor</td>\n",
       "      <td>Taylor</td>\n",
       "      <td>2016-01-27</td>\n",
       "      <td>1989-07-25</td>\n",
       "      <td>London</td>\n",
       "      <td>London</td>\n",
       "      <td>hannah88@powers.com</td>\n",
       "      <td>wagnershane@landry.com</td>\n",
       "    </tr>\n",
       "    <tr>\n",
       "      <th>3581</th>\n",
       "      <td>0.002214</td>\n",
       "      <td>0</td>\n",
       "      <td>right</td>\n",
       "      <td>313</td>\n",
       "      <td>right</td>\n",
       "      <td>0</td>\n",
       "      <td>79</td>\n",
       "      <td>Julia</td>\n",
       "      <td>Isaac</td>\n",
       "      <td>Taylor</td>\n",
       "      <td>Taylor</td>\n",
       "      <td>2016-01-27</td>\n",
       "      <td>2008-07-01</td>\n",
       "      <td>London</td>\n",
       "      <td>Swindon</td>\n",
       "      <td>hannah88@powers.com</td>\n",
       "      <td>xday@higgins-lewis.com</td>\n",
       "    </tr>\n",
       "    <tr>\n",
       "      <th>3580</th>\n",
       "      <td>0.002214</td>\n",
       "      <td>0</td>\n",
       "      <td>right</td>\n",
       "      <td>314</td>\n",
       "      <td>right</td>\n",
       "      <td>0</td>\n",
       "      <td>79</td>\n",
       "      <td>Julia</td>\n",
       "      <td>None</td>\n",
       "      <td>Taylor</td>\n",
       "      <td>Taylor</td>\n",
       "      <td>2016-01-27</td>\n",
       "      <td>2008-08-22</td>\n",
       "      <td>London</td>\n",
       "      <td>Swindon</td>\n",
       "      <td>hannah88@powers.com</td>\n",
       "      <td>xd-y@higginsalwis.com</td>\n",
       "    </tr>\n",
       "  </tbody>\n",
       "</table>\n",
       "</div>"
      ],
      "text/plain": [
       "      match_probability  unique_id_l _source_table_l  unique_id_r  \\\n",
       "1              0.999956            0            left            0   \n",
       "0              0.999999            0            left            1   \n",
       "2              0.999956            0            left            1   \n",
       "1213           0.999995            0           right            1   \n",
       "3585           0.041685            0           right           97   \n",
       "3584           0.041685            0           right          245   \n",
       "3583           0.041685            0           right          246   \n",
       "3582           0.041685            0           right          248   \n",
       "3581           0.002214            0           right          313   \n",
       "3580           0.002214            0           right          314   \n",
       "\n",
       "     _source_table_r  group_l  group_r first_name_l first_name_r surname_l  \\\n",
       "1              right        0        0       Julia        Julia       None   \n",
       "0              right        0        0       Julia        Julia       None   \n",
       "2               left        0        0       Julia        Julia       None   \n",
       "1213           right        0        0       Julia        Julia     Taylor   \n",
       "3585           right        0       26       Julia        Harry     Taylor   \n",
       "3584           right        0       62       Julia        Nancy     Taylor   \n",
       "3583           right        0       62       Julia        Nancy     Taylor   \n",
       "3582           right        0       62       Julia         Nacy     Taylor   \n",
       "3581           right        0       79       Julia        Isaac     Taylor   \n",
       "3580           right        0       79       Julia          None    Taylor   \n",
       "\n",
       "     surname_r       dob_l       dob_r  city_l   city_r              email_l  \\\n",
       "1       Taylor  2015-10-29  2016-01-27  London   London  hannah88@powers.com   \n",
       "0       Taylor  2015-10-29  2015-10-29  London     None  hannah88@powers.com   \n",
       "2       Taylor  2015-10-29  2015-07-31  London   London  hannah88@powers.com   \n",
       "1213    Taylor  2016-01-27  2015-10-29  London     None  hannah88@powers.com   \n",
       "3585    Taylor  2016-01-27  2017-09-01  London   London  hannah88@powers.com   \n",
       "3584    Taylor  2016-01-27  1989-07-25  London   London  hannah88@powers.com   \n",
       "3583    Taylor  2016-01-27  1989-08-19  London   London  hannah88@powers.com   \n",
       "3582    Taylor  2016-01-27  1989-07-25  London   London  hannah88@powers.com   \n",
       "3581    Taylor  2016-01-27  2008-07-01  London  Swindon  hannah88@powers.com   \n",
       "3580    Taylor  2016-01-27  2008-08-22  London  Swindon  hannah88@powers.com   \n",
       "\n",
       "                     email_r  \n",
       "1        hannah88@powers.com  \n",
       "0         hannah88opowersc@m  \n",
       "2        hannah88@powers.com  \n",
       "1213      hannah88opowersc@m  \n",
       "3585       coltonray@lee.com  \n",
       "3584  wagnershane@landry.com  \n",
       "3583  wagnershane@landry.com  \n",
       "3582  wagnershane@landry.com  \n",
       "3581  xday@higgins-lewis.com  \n",
       "3580   xd-y@higginsalwis.com  "
      ]
     },
     "execution_count": 7,
     "metadata": {},
     "output_type": "execute_result"
    }
   ],
   "source": [
    "# Inspect main dataframe that contains the match scores\n",
    "cols_to_inspect = [\"match_probability\",\"unique_id_l\", \"_source_table_l\",\"unique_id_r\",\"_source_table_r\",\"group_l\", \"group_r\", \"first_name_l\",\"first_name_r\",\"surname_l\",\"surname_r\",\"dob_l\",\"dob_r\",\"city_l\",\"city_r\",\"email_l\",\"email_r\"]\n",
    "\n",
    "df_e.toPandas()[cols_to_inspect].sort_values([\"unique_id_l\", \"unique_id_r\"]).head(10)"
   ]
  },
  {
   "cell_type": "markdown",
   "metadata": {},
   "source": [
    "The `params` property of the `linker` is an object that contains a lot of diagnostic information about how the match probability was computed.  The following cells demonstrate some of its functionality"
   ]
  },
  {
   "cell_type": "code",
   "execution_count": 9,
   "metadata": {},
   "outputs": [
    {
     "data": {
      "application/vnd.vegalite.v4+json": {
       "$schema": "https://vega.github.io/schema/vega-lite/v3.4.0.json",
       "config": {
        "mark": {
         "tooltip": null
        },
        "title": {
         "anchor": "middle"
        },
        "view": {
         "continuousHeight": 300,
         "continuousWidth": 400,
         "height": 300,
         "width": 400
        }
       },
       "data": {
        "name": "data-a2ed3b02e1448de5eb6b55409d2a48b7"
       },
       "datasets": {
        "data-a2ed3b02e1448de5eb6b55409d2a48b7": [
         {
          "column": "name_inversion",
          "gamma": "gamma_name_inversion",
          "match": 1,
          "probability": 0.6409318447113037,
          "value": 0,
          "value_of_gamma": "level_0"
         },
         {
          "column": "name_inversion",
          "gamma": "gamma_name_inversion",
          "match": 1,
          "probability": 0.11820554733276367,
          "value": 1,
          "value_of_gamma": "level_1"
         },
         {
          "column": "name_inversion",
          "gamma": "gamma_name_inversion",
          "match": 1,
          "probability": 0.24086259305477142,
          "value": 2,
          "value_of_gamma": "level_2"
         },
         {
          "column": "name_inversion",
          "gamma": "gamma_name_inversion",
          "match": 0,
          "probability": 0.9926683306694031,
          "value": 0,
          "value_of_gamma": "level_0"
         },
         {
          "column": "name_inversion",
          "gamma": "gamma_name_inversion",
          "match": 0,
          "probability": 0,
          "value": 1,
          "value_of_gamma": "level_1"
         },
         {
          "column": "name_inversion",
          "gamma": "gamma_name_inversion",
          "match": 0,
          "probability": 0.007331663742661476,
          "value": 2,
          "value_of_gamma": "level_2"
         },
         {
          "column": "dob",
          "gamma": "gamma_dob",
          "match": 1,
          "probability": 0.1359620839357376,
          "value": 0,
          "value_of_gamma": "level_0"
         },
         {
          "column": "dob",
          "gamma": "gamma_dob",
          "match": 1,
          "probability": 0.8640379309654236,
          "value": 1,
          "value_of_gamma": "level_1"
         },
         {
          "column": "dob",
          "gamma": "gamma_dob",
          "match": 0,
          "probability": 0.9850581288337708,
          "value": 0,
          "value_of_gamma": "level_0"
         },
         {
          "column": "dob",
          "gamma": "gamma_dob",
          "match": 0,
          "probability": 0.014941846951842308,
          "value": 1,
          "value_of_gamma": "level_1"
         },
         {
          "column": "city",
          "gamma": "gamma_city",
          "match": 1,
          "probability": 0.23639824986457825,
          "value": 0,
          "value_of_gamma": "level_0"
         },
         {
          "column": "city",
          "gamma": "gamma_city",
          "match": 1,
          "probability": 0.7636017203330994,
          "value": 1,
          "value_of_gamma": "level_1"
         },
         {
          "column": "city",
          "gamma": "gamma_city",
          "match": 0,
          "probability": 0.8585450053215027,
          "value": 0,
          "value_of_gamma": "level_0"
         },
         {
          "column": "city",
          "gamma": "gamma_city",
          "match": 0,
          "probability": 0.1414550244808197,
          "value": 1,
          "value_of_gamma": "level_1"
         },
         {
          "column": "email",
          "gamma": "gamma_email",
          "match": 1,
          "probability": 0.1260308176279068,
          "value": 0,
          "value_of_gamma": "level_0"
         },
         {
          "column": "email",
          "gamma": "gamma_email",
          "match": 1,
          "probability": 0.8739691972732544,
          "value": 1,
          "value_of_gamma": "level_1"
         },
         {
          "column": "email",
          "gamma": "gamma_email",
          "match": 0,
          "probability": 0.9999866485595703,
          "value": 0,
          "value_of_gamma": "level_0"
         },
         {
          "column": "email",
          "gamma": "gamma_email",
          "match": 0,
          "probability": 1.3365432096179575e-05,
          "value": 1,
          "value_of_gamma": "level_1"
         }
        ]
       },
       "hconcat": [
        {
         "encoding": {
          "color": {
           "field": "match",
           "scale": {
            "domain": [
             0,
             1
            ],
            "range": [
             "red",
             "green"
            ]
           },
           "type": "nominal"
          },
          "row": {
           "field": "column",
           "sort": {
            "field": "gamma"
           },
           "type": "nominal"
          },
          "tooltip": [
           {
            "field": "column",
            "type": "nominal"
           },
           {
            "field": "probability",
            "format": ".4f",
            "type": "quantitative"
           },
           {
            "field": "value",
            "type": "ordinal"
           }
          ],
          "x": {
           "axis": {
            "title": "proportion of non-matches"
           },
           "field": "probability",
           "type": "quantitative"
          },
          "y": {
           "axis": {
            "title": "𝛾 value"
           },
           "field": "value",
           "type": "nominal"
          }
         },
         "height": 50,
         "mark": "bar",
         "resolve": {
          "scale": {
           "y": "independent"
          }
         },
         "transform": [
          {
           "filter": "(datum.match === 0)"
          }
         ],
         "width": 150
        },
        {
         "encoding": {
          "color": {
           "field": "match",
           "scale": {
            "domain": [
             0,
             1
            ],
            "range": [
             "red",
             "green"
            ]
           },
           "type": "nominal"
          },
          "row": {
           "field": "column",
           "sort": {
            "field": "gamma"
           },
           "type": "nominal"
          },
          "tooltip": [
           {
            "field": "column",
            "type": "nominal"
           },
           {
            "field": "probability",
            "format": ".4f",
            "type": "quantitative"
           },
           {
            "field": "value",
            "type": "ordinal"
           }
          ],
          "x": {
           "axis": {
            "title": "proportion of matches"
           },
           "field": "probability",
           "type": "quantitative"
          },
          "y": {
           "axis": {
            "title": "𝛾 value"
           },
           "field": "value",
           "type": "nominal"
          }
         },
         "height": 50,
         "mark": "bar",
         "resolve": {
          "scale": {
           "y": "independent"
          }
         },
         "transform": [
          {
           "filter": "(datum.match === 1)"
          }
         ],
         "width": 150
        }
       ],
       "title": "Probability distribution of comparison vector values, m=0 and m=1"
      },
      "image/png": "[encoded data removed]",
      "text/plain": [
       "<VegaLite 4 object>\n",
       "\n",
       "If you see this message, it means the renderer has not been properly enabled\n",
       "for the frontend that you are using. For more information, see\n",
       "https://altair-viz.github.io/user_guide/troubleshooting.html\n"
      ]
     },
     "execution_count": 9,
     "metadata": {},
     "output_type": "execute_result"
    }
   ],
   "source": [
    "params = linker.params\n",
    "params.probability_distribution_chart()"
   ]
  },
  {
   "cell_type": "markdown",
   "metadata": {},
   "source": [
    "An alternative representation of the parameters displays them in terms of the effect different values in the comparison vectors have on the match probability:"
   ]
  },
  {
   "cell_type": "code",
   "execution_count": 10,
   "metadata": {},
   "outputs": [
    {
     "data": {
      "application/vnd.vegalite.v4+json": {
       "$schema": "https://vega.github.io/schema/vega-lite/v3.4.0.json",
       "config": {
        "mark": {
         "tooltip": null
        },
        "title": {
         "anchor": "middle"
        },
        "view": {
         "continuousHeight": 300,
         "continuousWidth": 400,
         "height": 300,
         "width": 400
        }
       },
       "data": {
        "name": "data-36a0a5f983c69bf144cde083970f4871"
       },
       "datasets": {
        "data-36a0a5f983c69bf144cde083970f4871": [
         {
          "bayes_factor": 0.6456656517681925,
          "column": "name_inversion",
          "level": 0,
          "level_proportion": 0.8457362940434532,
          "m": 0.6409318447113037,
          "u": 0.9926683306694031
         },
         {
          "bayes_factor": null,
          "column": "name_inversion",
          "level": 1,
          "level_proportion": 0.0493783912202872,
          "m": 0.11820554733276367,
          "u": 0
         },
         {
          "bayes_factor": 32.85237860176817,
          "column": "name_inversion",
          "level": 2,
          "level_proportion": 0.10488530525787981,
          "m": 0.24086259305477142,
          "u": 0.007331663742661476
         },
         {
          "bayes_factor": 0.13802442714391458,
          "column": "dob",
          "level": 0,
          "level_proportion": 0.6303624513919686,
          "m": 0.1359620839357376,
          "u": 0.9850581288337708
         },
         {
          "bayes_factor": 57.826715381988905,
          "column": "dob",
          "level": 1,
          "level_proportion": 0.3696375407335108,
          "m": 0.8640379309654236,
          "u": 0.014941846951842308
         },
         {
          "bayes_factor": 0.2753475337918404,
          "column": "city",
          "level": 0,
          "level_proportion": 0.5986535993716453,
          "m": 0.23639824986457825,
          "u": 0.8585450053215027
         },
         {
          "bayes_factor": 5.398194395255563,
          "column": "city",
          "level": 1,
          "level_proportion": 0.4013464055318332,
          "m": 0.7636017203330994,
          "u": 0.1414550244808197
         },
         {
          "bayes_factor": 0.12603250034332733,
          "column": "email",
          "level": 0,
          "level_proportion": 0.6349062111118307,
          "m": 0.1260308176279068,
          "u": 0.9999866485595703
         },
         {
          "bayes_factor": 65390.26879071669,
          "column": "email",
          "level": 1,
          "level_proportion": 0.36509380325976204,
          "m": 0.8739691972732544,
          "u": 1.3365432096179575e-05
         }
        ]
       },
       "encoding": {
        "color": {
         "field": "logk",
         "scale": {
          "domainMid": 0,
          "scheme": "redyellowgreen"
         },
         "title": "log2(K)",
         "type": "quantitative"
        },
        "row": {
         "field": "column",
         "sort": {
          "field": "column"
         },
         "type": "nominal"
        },
        "tooltip": [
         {
          "field": "column",
          "type": "nominal"
         },
         {
          "field": "bayes_factor",
          "title": "Bayes factor, K",
          "type": "quantitative"
         },
         {
          "field": "logk",
          "title": "log2(K)",
          "type": "quantitative"
         }
        ],
        "x": {
         "axis": {
          "title": "log2(Bayes factor, K = m/u)",
          "values": [
           -10,
           -5,
           0,
           5,
           10
          ]
         },
         "field": "logk",
         "scale": {
          "domain": [
           -10,
           10
          ]
         },
         "type": "quantitative"
        },
        "y": {
         "field": "level",
         "type": "nominal"
        }
       },
       "height": 50,
       "mark": {
        "clip": true,
        "type": "bar"
       },
       "resolve": {
        "scale": {
         "y": "independent"
        }
       },
       "title": "Influence of comparison vector values on match probability",
       "transform": [
        {
         "as": "logk",
         "calculate": "(log(datum.bayes_factor) / log(2))"
        }
       ]
      },
      "image/png": "[encoded data removed]",
      "text/plain": [
       "<VegaLite 4 object>\n",
       "\n",
       "If you see this message, it means the renderer has not been properly enabled\n",
       "for the frontend that you are using. For more information, see\n",
       "https://altair-viz.github.io/user_guide/troubleshooting.html\n"
      ]
     },
     "execution_count": 10,
     "metadata": {},
     "output_type": "execute_result"
    }
   ],
   "source": [
    "params.bayes_factor_chart()"
   ]
  },
  {
   "cell_type": "code",
   "execution_count": 11,
   "metadata": {},
   "outputs": [],
   "source": [
    "# If charts aren't displaying correctly in your notebook, you can write them to a file (by default splink_charts.html)\n",
    "params.all_charts_write_html_file(\"splink_charts.html\", overwrite=True)"
   ]
  },
  {
   "cell_type": "markdown",
   "metadata": {},
   "source": [
    "You can also generate a report which explains how the match probability was computed for an individual comparison row.  \n",
    "\n",
    "Note that you need to convert the row to a dictionary for this to work"
   ]
  },
  {
   "cell_type": "code",
   "execution_count": 12,
   "metadata": {},
   "outputs": [
    {
     "name": "stdout",
     "output_type": "stream",
     "text": [
      "\n",
      "Initial probability of match (prior) = λ = 0.4177332818508148\n",
      "\n",
      "Comparison of name_inversion.  Values are:\n",
      "name_inversion_l: Harry , Taylor, 2017-09-01\n",
      "name_inversion_r: Ivy , Taylor, 1980-01-13\n",
      "Comparison has 3 levels\n",
      "𝛾 for this comparison = gamma_name_inversion = 0\n",
      "Amongst matches, m = P(𝛾|match) = 0.6409318447113037\n",
      "Amongst non matches, u = P(𝛾|non-match) = 0.9926683306694031\n",
      "Bayes factor = m/u = 0.6456656517681925\n",
      "New probability of match (updated belief): 0.31657452189251034\n",
      "\n",
      "Comparison of dob.  Values are:\n",
      "dob_l: 2017-09-01\n",
      "dob_r: 1980-01-13\n",
      "Comparison has 2 levels\n",
      "𝛾 for this comparison = gamma_dob = 0\n",
      "Amongst matches, m = P(𝛾|match) = 0.1359620839357376\n",
      "Amongst non matches, u = P(𝛾|non-match) = 0.9850581288337708\n",
      "Bayes factor = m/u = 0.13802442714391458\n",
      "New probability of match (updated belief): 0.06009322708494911\n",
      "\n",
      "Comparison of city.  Values are:\n",
      "city_l: London\n",
      "city_r: London\n",
      "Comparison has 2 levels\n",
      "𝛾 for this comparison = gamma_city = 1\n",
      "Amongst matches, m = P(𝛾|match) = 0.7636017203330994\n",
      "Amongst non matches, u = P(𝛾|non-match) = 0.1414550244808197\n",
      "Bayes factor = m/u = 5.398194395255563\n",
      "New probability of match (updated belief): 0.2565803107273702\n",
      "\n",
      "Comparison of email.  Values are:\n",
      "email_l: coltonray@lee.com\n",
      "email_r: None\n",
      "Comparison has 2 levels\n",
      "𝛾 for this comparison = gamma_email = -1\n",
      "Amongst matches, m = P(𝛾|match) = 1.0\n",
      "Amongst non matches, u = P(𝛾|non-match) = 1.0\n",
      "Bayes factor = m/u = 1.0\n",
      "New probability of match (updated belief): 0.2565803107273702\n",
      "\n",
      "Final probability of match = 0.2565803107273702\n",
      "\n"
     ]
    }
   ],
   "source": [
    "from splink.intuition import intuition_report\n",
    "row_dict = df_e.toPandas().sample(1).to_dict(orient=\"records\")[0]\n",
    "print(intuition_report(row_dict, params))"
   ]
  },
  {
   "cell_type": "markdown",
   "metadata": {},
   "source": [
    "# Use graphframes to resolve links into groups"
   ]
  },
  {
   "cell_type": "code",
   "execution_count": 32,
   "metadata": {},
   "outputs": [
    {
     "name": "stdout",
     "output_type": "stream",
     "text": [
      "+---------------+---------+----------+---------+----------+------------+--------------------+-----+------------+\n",
      "|estimated_group|unique_id|first_name|  surname|       dob|        city|               email|group|source_table|\n",
      "+---------------+---------+----------+---------+----------+------------+--------------------+-----+------------+\n",
      "|              0|        0|    Julia |   Taylor|2016-01-27|      London| hannah88@powers.com|    0|       right|\n",
      "|              0|        1|    Julia |   Taylor|2015-07-31|      London| hannah88@powers.com|    0|        left|\n",
      "|              0|        0|    Julia |     null|2015-10-29|      London| hannah88@powers.com|    0|        left|\n",
      "|              0|        1|    Julia |   Taylor|2015-10-29|        null|  hannah88opowersc@m|    0|       right|\n",
      "|              2|        4|    Watson|    Noah |2008-06-15|      Bolton|matthew78@ballard...|    1|       right|\n",
      "|              2|        3|     Noah |   Watson|2008-02-05|       tolon|matthew78@ballard...|    1|       right|\n",
      "|              2|        7|    Watson|    Noah |2008-01-21|       Bolno|matthea78@bwllar-...|    1|       right|\n",
      "|              2|        2|      oNah|   Watson|2008-03-23|      Bolton|matthew78@ballard...|    1|        left|\n",
      "|              2|        6|    Watson|    Noah |2008-03-23|      Bolton|matthbw78eallard-...|    1|       right|\n",
      "|              2|        2|    Watson|    Noah |2008-03-23|        null|matthew78@ballard...|    1|       right|\n",
      "|              2|        3|     Noah |   Watson|2008-03-23|      Bolton|matthew78@ballard...|    1|        left|\n",
      "|              5|        5|     Noah |   Watson|2008-01-19|      Bolton|                null|    1|       right|\n",
      "|              8|        8|     Noah |     null|2008-03-23|       Blotn|                null|    1|       right|\n",
      "|              2|        4|    Molly |     Bell|2002-01-05|Peterborough|                null|    2|        left|\n",
      "|              5|        5|     Moly |     Bell|2002-01-05|Peterborough|lricsaunders@siev...|    2|        left|\n",
      "|              2|       11|    lmeAi |Alexander|1983-05-19|     Glasgow|icampbell@allen-l...|    3|       right|\n",
      "|              2|        6| Alexander|  Amelia |1983-05-19|     Glasgow|ic-mpbell@alleale...|    3|        left|\n",
      "|              2|       10|   Amelia |Alexander|1983-05-19|     Glasgow|icampbell@allen-l...|    3|       right|\n",
      "|              2|        9|   Amelia |Alexander|1983-04-30|     Glasgow|icampbeal@lllen-l...|    3|       right|\n",
      "|              2|        7|   Amelia |Alexander|1983-05-19|      Glaogw|                null|    3|        left|\n",
      "+---------------+---------+----------+---------+----------+------------+--------------------+-----+------------+\n",
      "only showing top 20 rows\n",
      "\n"
     ]
    }
   ],
   "source": [
    "from graphframes import GraphFrame\n",
    "\n",
    "\n",
    "df_e.createOrReplaceTempView(\"df_e\")\n",
    "sql = \"\"\"\n",
    "select unique_id_l as id, 'left' as source_table\n",
    "from df_e\n",
    "union\n",
    "select unique_id_r as id, 'right' as source_table\n",
    "from df_e\n",
    "\"\"\"\n",
    "nodes = spark.sql(sql)\n",
    "\n",
    "sql = \"\"\"\n",
    "select\n",
    "unique_id_l as src,\n",
    "unique_id_r as dst,\n",
    "match_probability\n",
    "from df_e\n",
    "where match_probability > 0.99\n",
    "\"\"\"\n",
    "edges = spark.sql(sql)\n",
    "\n",
    "g = GraphFrame(nodes, edges)\n",
    "\n",
    "cc = g.connectedComponents()\n",
    "\n",
    "cc.createOrReplaceTempView(\"cc\")\n",
    "df_l.createOrReplaceTempView(\"df_l\")\n",
    "df_r.createOrReplaceTempView(\"df_r\")\n",
    "sql = \"\"\"\n",
    "select * from (\n",
    "select cc.component as estimated_group, \n",
    "df_l.*, 'left' as source_table\n",
    "from cc\n",
    "inner join df_l\n",
    "on cc.id = df_l.unique_id and cc.source_table = 'left'\n",
    "\n",
    "union\n",
    "\n",
    "select cc.component as estimated_group, \n",
    "df_r.* ,'right' as source_table\n",
    "from cc\n",
    "inner join df_r\n",
    "on cc.id = df_r.unique_id and cc.source_table = 'right')\n",
    "order by group, estimated_group\n",
    "\n",
    "\"\"\"\n",
    "results = spark.sql(sql)\n",
    "\n",
    "results.toPandas().head(30)\n",
    "\n",
    "results.show()"
   ]
  },
  {
   "cell_type": "code",
   "execution_count": null,
   "metadata": {},
   "outputs": [],
   "source": []
  },
  {
   "cell_type": "code",
   "execution_count": null,
   "metadata": {},
   "outputs": [],
   "source": []
  }
 ],
 "metadata": {
  "kernelspec": {
   "display_name": "Python 3",
   "language": "python",
   "name": "python3"
  },
  "language_info": {
   "codemirror_mode": {
    "name": "ipython",
    "version": 3
   },
   "file_extension": ".py",
   "mimetype": "text/x-python",
   "name": "python",
   "nbconvert_exporter": "python",
   "pygments_lexer": "ipython3",
   "version": "3.7.6"
  }
 },
 "nbformat": 4,
 "nbformat_minor": 4
}
