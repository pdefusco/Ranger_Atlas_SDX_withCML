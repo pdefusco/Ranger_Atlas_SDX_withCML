{
 "cells": [
  {
   "cell_type": "markdown",
   "id": "0dca667b-1e51-4d97-9bf1-cfcd0c009803",
   "metadata": {},
   "source": [
    "# Simple MLOps Pipeline with API V2"
   ]
  },
  {
   "cell_type": "code",
   "execution_count": 48,
   "id": "155e9bd8-3eb1-4aec-b291-97cfd96ecca7",
   "metadata": {},
   "outputs": [],
   "source": [
    "import os\n",
    "import cmlapi\n",
    "from cmlapi.utils import Cursor\n",
    "import string\n",
    "import random\n",
    "import json\n",
    "import yaml"
   ]
  },
  {
   "cell_type": "code",
   "execution_count": 39,
   "id": "5920266f-eca4-45f8-9be8-2f372d5038b0",
   "metadata": {},
   "outputs": [],
   "source": [
    "# Install cmlapi package\n",
    "try:\n",
    "    import cmlapi\n",
    "except ModuleNotFoundError:\n",
    "    import os\n",
    "    cluster = os.getenv(\"CDSW_API_URL\")[:-1]+\"2\"\n",
    "    !pip3 install {cluster}/python.tar.gz\n",
    "    import cmlapi\n",
    "\n",
    "from cmlapi.utils import Cursor\n",
    "import string\n",
    "import random\n",
    "import json\n",
    "\n",
    "try:\n",
    "    client = cmlapi.default_client()\n",
    "except ValueError:\n",
    "    print(\"Could not create a client. If this code is not being run in a CML session, please include the keyword arguments \\\"url\\\" and \\\"cml_api_key\\\".\")"
   ]
  },
  {
   "cell_type": "code",
   "execution_count": 40,
   "id": "4a474c14-6aba-4b15-8574-f3a59a4ca908",
   "metadata": {},
   "outputs": [
    {
     "data": {
      "text/plain": [
       "'idfjlc'"
      ]
     },
     "execution_count": 40,
     "metadata": {},
     "output_type": "execute_result"
    }
   ],
   "source": [
    "session_id = \"\".join([random.choice(string.ascii_lowercase) for _ in range(6)])\n",
    "session_id"
   ]
  },
  {
   "cell_type": "code",
   "execution_count": 41,
   "id": "97c17da7-b2a2-4a4c-af28-1a39ab05e999",
   "metadata": {},
   "outputs": [],
   "source": [
    "project_id = os.environ[\"CDSW_PROJECT_ID\"]"
   ]
  },
  {
   "cell_type": "code",
   "execution_count": 42,
   "id": "a05590d7-00c2-4068-aa6d-328e7ef19f97",
   "metadata": {},
   "outputs": [],
   "source": [
    "modelReq = cmlapi.CreateModelRequest(\n",
    "    name = \"demo-model-\" + session_id,\n",
    "    description = \"model created for demo\",\n",
    "    project_id = project_id,\n",
    "    disable_authentication = True\n",
    ")\n",
    "\n",
    "model = client.create_model(modelReq, project_id)"
   ]
  },
  {
   "cell_type": "code",
   "execution_count": 43,
   "id": "cde1e002-4335-4564-88dd-8cb937a61038",
   "metadata": {},
   "outputs": [],
   "source": [
    "model_build_request = cmlapi.CreateModelBuildRequest(\n",
    "    project_id = project_id,\n",
    "    model_id = model.id,\n",
    "    comment = \"test comment\",\n",
    "    file_path = \"model_endpoint.py\",\n",
    "    function_name = \"predict\",\n",
    "    kernel = \"python3\",\n",
    "    runtime_identifier = \"docker.repository.cloudera.com/cdsw/ml-runtime-workbench-python3.7-standard:2021.09.1-b5\"\n",
    "    #runtime_addon_identifiers = \"spark311-13-hf1\"\n",
    ")\n",
    "\n",
    "modelBuild = client.create_model_build(\n",
    "    model_build_request, project_id, model.id\n",
    ")"
   ]
  },
  {
   "cell_type": "code",
   "execution_count": 44,
   "id": "536ae824-c29d-4383-ac77-c58c91391b2a",
   "metadata": {},
   "outputs": [],
   "source": [
    "model_deployment = cmlapi.CreateModelDeploymentRequest(\n",
    "        project_id = project_id, \n",
    "        model_id = model.id, \n",
    "        build_id = modelBuild.id, \n",
    "        cpu = 1.00,\n",
    "        memory = 2.00\n",
    "    )\n",
    "\n",
    "model_deployment_response = client.create_model_deployment(\n",
    "        model_deployment, \n",
    "        project_id = project_id, \n",
    "        model_id = model.id, \n",
    "        build_id = modelBuild.id\n",
    "    )"
   ]
  },
  {
   "cell_type": "code",
   "execution_count": 49,
   "id": "5d980d28-6e20-4cf0-a192-a348b2190818",
   "metadata": {},
   "outputs": [],
   "source": [
    "## CREATE MODEL PROGRAMMATICALLY ##\n",
    "\n",
    "# Create the YAML file for Model Lineage\n",
    "\n",
    "name = \"demo-model-\" + session_id\n",
    "\n",
    "dict_yaml = [{name : {\"hive_table_qualified_names\": [\"default.marketing_campaign_table\", \"default.bank_info_table\"], \"metadata\":{\"custom metadata key\" : \"custom metadata value\"}}}]\n",
    "\n",
    "with open(r'lineage.yml', 'w') as file:\n",
    "    documents = yaml.dump(dict_yaml, file)"
   ]
  },
  {
   "cell_type": "code",
   "execution_count": null,
   "id": "01dc6ea3-bd70-433c-a28f-646959fe7749",
   "metadata": {},
   "outputs": [],
   "source": []
  }
 ],
 "metadata": {
  "kernelspec": {
   "display_name": "Python 3",
   "language": "python",
   "name": "python3"
  },
  "language_info": {
   "codemirror_mode": {
    "name": "ipython",
    "version": 3
   },
   "file_extension": ".py",
   "mimetype": "text/x-python",
   "name": "python",
   "nbconvert_exporter": "python",
   "pygments_lexer": "ipython3",
   "version": "3.7.12"
  }
 },
 "nbformat": 4,
 "nbformat_minor": 5
}
