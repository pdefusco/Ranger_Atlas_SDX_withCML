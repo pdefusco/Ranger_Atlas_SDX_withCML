{
 "cells": [
  {
   "cell_type": "markdown",
   "metadata": {},
   "source": [
    "# Atlas Client Example"
   ]
  },
  {
   "cell_type": "code",
   "execution_count": 1,
   "metadata": {},
   "outputs": [],
   "source": [
    "import atlasclient\n",
    "import os"
   ]
  },
  {
   "cell_type": "code",
   "execution_count": 2,
   "metadata": {},
   "outputs": [],
   "source": [
    "from atlasclient.client import Atlas\n",
    "client = Atlas(os.environ['ATLAS_ENDPOINT'], port='', username=os.environ['ATLAS_USER'], password=os.environ['ATLAS_PASSWORD'])"
   ]
  },
  {
   "cell_type": "markdown",
   "metadata": {},
   "source": [
    "Querying random entity by GUID"
   ]
  },
  {
   "cell_type": "code",
   "execution_count": 4,
   "metadata": {},
   "outputs": [],
   "source": [
    "#find a GUID for something here\n",
    "guid = \"68e709d6-ac1d-43dc-867a-5c8a5de15a5d\""
   ]
  },
  {
   "cell_type": "code",
   "execution_count": 5,
   "metadata": {},
   "outputs": [],
   "source": [
    "entity = client.entity_guid(guid)"
   ]
  },
  {
   "cell_type": "code",
   "execution_count": 6,
   "metadata": {},
   "outputs": [
    {
     "data": {
      "text/plain": [
       "{'createTime': 1617761910892,\n",
       " 'description': None,\n",
       " 'displayName': None,\n",
       " 'metadata': {'default_project_engine_type': 'legacy_engine',\n",
       "  'project_description': '',\n",
       "  'project_visibility': 'private',\n",
       "  'service_name': 'mlgov/mlgovapiserver.mlx.cloudera.site@MLWORKSH.Z30Z-14KP.CLOUDERA.SITE',\n",
       "  'session_username': 'pauldefusco'},\n",
       " 'modifiedTime': 1617761910892,\n",
       " 'name': 'Test',\n",
       " 'owner': 'pauldefusco',\n",
       " 'qualifiedName': 'crn:cdp:ml:us-west-1:f8e16d2d-57e6-43bc-8e50-75a32f7782ad:workspace:0d38c7b8-7e7e-4f54-b402-2f3cf329a8b9/cdd6c17c-c42e-40ba-9921-fe8363ab8b0f',\n",
       " 'replicatedFrom': None,\n",
       " 'replicatedTo': None,\n",
       " 'userDescription': None}"
      ]
     },
     "execution_count": 6,
     "metadata": {},
     "output_type": "execute_result"
    }
   ],
   "source": [
    "entity.entity['attributes']"
   ]
  },
  {
   "cell_type": "markdown",
   "metadata": {},
   "source": [
    "Creating Custom Atlas Type"
   ]
  },
  {
   "cell_type": "code",
   "execution_count": 39,
   "metadata": {},
   "outputs": [],
   "source": [
    "typedef_dict = {\n",
    "    \"enumTypes\": [],\n",
    "    \"structTypes\": [],\n",
    "    \"classificationDefs\":[],\n",
    "    \"entityDefs\": [{\n",
    "        \"superTypes\": [\"Process\"],\n",
    "        \"name\": \"custom_type\",\n",
    "        \"description\":\"custom_type\",\n",
    "        \"attributeDefs\": [{\n",
    "            \"name\": \"startTime\",\n",
    "            \"isOptional\": True,\n",
    "            \"isUnique\": False,\n",
    "            \"isIndexable\": False,\n",
    "            \"typeName\":\"string\",\n",
    "            \"valuesMaxCount\":1,\n",
    "            \"cardinality\":\"SINGLE\",\n",
    "            \"valuesMinCount\":0\n",
    "        }]\n",
    "    }]\n",
    "}"
   ]
  },
  {
   "cell_type": "code",
   "execution_count": 40,
   "metadata": {},
   "outputs": [
    {
     "data": {
      "text/plain": [
       "<atlasclient.models.TypeDefs at 0x7f0618b43898>"
      ]
     },
     "execution_count": 40,
     "metadata": {},
     "output_type": "execute_result"
    }
   ],
   "source": [
    "#Already exists\n",
    "#client.typedefs.create(data=typedef_dict)"
   ]
  },
  {
   "cell_type": "markdown",
   "metadata": {},
   "source": [
    "Creating Custom Instance of Custom Type"
   ]
  },
  {
   "cell_type": "code",
   "execution_count": 7,
   "metadata": {},
   "outputs": [],
   "source": [
    "process_entity_dict = {\n",
    "  \"entity\" : {\n",
    "    \"guid\" : \"-208942807557413\",\n",
    "    \"status\" : \"ACTIVE\",\n",
    "    \"createdBy\" : \"admin\",\n",
    "    \"updatedBy\" : \"admin\",\n",
    "    \"createTime\" : \"12342\",\n",
    "    \"updateTime\" : \"12342\",\n",
    "    \"version\" : \"12342\",\n",
    "    \"relationshipAttributes\" : {},\n",
    "    \"classifications\" : [],\n",
    "    \"typeName\" : \"custom_type\",\n",
    "    \"attributes\" : {\n",
    "      \"startTime\" : \"123\",\n",
    "      \"qualifiedName\": \"ResearchPaperMachineLearning.ML_with_lineage_3\",\n",
    "      \"name\":\"Custom_Entity\",\n",
    "      \"description\":\"Custom_Entity\",\n",
    "      \"owner\": \"pdefusco\"\n",
    "        #, \n",
    "      #\"inputs\":[{\"guid\": \"1a330b99-dfd6-4613-854a-1e7ecb4f4850\", \"typeName\":\"hive_table\"}], \n",
    "      #\"outputs\":[{\"guid\":\"eabeafe3-71ea-4f0b-b284-6d3ed278e55d\", \"type_name\":\"ml_model_deployment\"}]\n",
    "    }, \n",
    "  },\n",
    "  \n",
    "}"
   ]
  },
  {
   "cell_type": "code",
   "execution_count": 8,
   "metadata": {},
   "outputs": [
    {
     "data": {
      "text/plain": [
       "{'guidAssignments': {'-208942807557413': 'fb994ba4-8bc6-4161-a7fd-74b288a894a3'},\n",
       " 'mutatedEntities': {'CREATE': [{'attributes': {'description': 'Custom_Entity',\n",
       "     'name': 'Custom_Entity',\n",
       "     'owner': 'pdefusco',\n",
       "     'qualifiedName': 'ResearchPaperMachineLearning.ML_with_lineage_3'},\n",
       "    'classificationNames': [],\n",
       "    'classifications': [],\n",
       "    'displayText': 'Custom_Entity',\n",
       "    'guid': 'fb994ba4-8bc6-4161-a7fd-74b288a894a3',\n",
       "    'isIncomplete': False,\n",
       "    'labels': [],\n",
       "    'meaningNames': [],\n",
       "    'meanings': [],\n",
       "    'status': 'ACTIVE',\n",
       "    'typeName': 'custom_type'}]}}"
      ]
     },
     "execution_count": 8,
     "metadata": {},
     "output_type": "execute_result"
    }
   ],
   "source": [
    "client.entity_post.create(data=process_entity_dict)"
   ]
  }
 ],
 "metadata": {
  "kernelspec": {
   "display_name": "Python 3",
   "language": "python",
   "name": "python3"
  },
  "language_info": {
   "codemirror_mode": {
    "name": "ipython",
    "version": 3
   },
   "file_extension": ".py",
   "mimetype": "text/x-python",
   "name": "python",
   "nbconvert_exporter": "python",
   "pygments_lexer": "ipython3",
   "version": "3.6.10"
  }
 },
 "nbformat": 4,
 "nbformat_minor": 4
}
